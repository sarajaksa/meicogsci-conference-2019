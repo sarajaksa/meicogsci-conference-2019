{
 "cells": [
  {
   "cell_type": "markdown",
   "metadata": {},
   "source": [
    "# Getting Personality Data"
   ]
  },
  {
   "cell_type": "markdown",
   "metadata": {},
   "source": [
    "This part is how to get the personality data for all the abstracts. For this I used IBM's personality insights. Here is the code, who I got all the data."
   ]
  },
  {
   "cell_type": "code",
   "execution_count": 1,
   "metadata": {},
   "outputs": [],
   "source": [
    "from constants import folder_meicogsci, folder_meicogsci_2019\n",
    "from ibm_watson import PersonalityInsightsV3\n",
    "import json\n",
    "import os"
   ]
  },
  {
   "cell_type": "code",
   "execution_count": 2,
   "metadata": {},
   "outputs": [],
   "source": [
    "#here are the credentials. You need to create an account on IBM site in order to get these\n",
    "credentials = {\n",
    "  \"apikey\": \"\",\n",
    "  \"iam_apikey_description\": \"\",\n",
    "  \"iam_apikey_name\": \"\",\n",
    "  \"iam_role_crn\": \"\",\n",
    "  \"iam_serviceid_crn\": \"\",\n",
    "  \"url\": \"\"\n",
    "}\n",
    "api_link = \"https://gateway-fra.watsonplatform.net/personality-insights/api\""
   ]
  },
  {
   "cell_type": "code",
   "execution_count": 3,
   "metadata": {},
   "outputs": [],
   "source": [
    "#here the function is saved\n",
    "personality_insights = PersonalityInsightsV3(version=\"2017-10-13\", iam_apikey=credentials[\"apikey\"], url=\"api_link\")"
   ]
  },
  {
   "cell_type": "code",
   "execution_count": 4,
   "metadata": {},
   "outputs": [],
   "source": [
    "#here I get the list of all abstracts\n",
    "all_files = os.listdir(folder_meicogsci)\n",
    "all_files_2019 = os.listdir(folder_meicogsci_2019)"
   ]
  },
  {
   "cell_type": "code",
   "execution_count": 5,
   "metadata": {},
   "outputs": [],
   "source": [
    "#here is check for which abstracts I already have the personality traits\n",
    "already_done_files = set(os.listdir(folder_meicogsci) + os.listdir(folder_meicogsci_2019))"
   ]
  },
  {
   "cell_type": "code",
   "execution_count": 6,
   "metadata": {},
   "outputs": [],
   "source": [
    "#here are a couple of abstracts, that were too short to use in here\n",
    "too_short = set([\"meicogsci_2008_19.txt\", \"meicogsci_2008_17.txt\", \"meicogsci_2008_13.txt\", \"meicogsci_2008_12.txt\", \n",
    "                 \"meicogsci_2014_537.txt\"])"
   ]
  },
  {
   "cell_type": "code",
   "execution_count": 7,
   "metadata": {},
   "outputs": [],
   "source": [
    "#this is the part, where I call api for each abstract\n",
    "for folder, filenames in [[folder_meicogsci, all_files], [folder_meicogsci_2019, all_files_2019]]:\n",
    "    for filename in filenames:\n",
    "        if not filename in already_done_files and filename not in too_short:\n",
    "            print(filename)\n",
    "            with open(os.path.join(folder, filename)) as f:\n",
    "                data = f.readlines()\n",
    "                data = \" \".join(data).replace(\"... title: \", \"\")\n",
    "            profile = personality_insights.profile(content=data, accept=\"application/json\", content_language=\"en\", \n",
    "                                                   accept_language=\"en\", raw_scores=True, consumption_preferences=True,\n",
    "                                                   content_type=\"text/plain\"\n",
    "            ).get_result()\n",
    "            with open(os.path.join(\"personality\", filename), \"w\") as f:\n",
    "                f.write(json.dumps(profile))"
   ]
  }
 ],
 "metadata": {
  "kernelspec": {
   "display_name": "Python 3",
   "language": "python",
   "name": "python3"
  },
  "language_info": {
   "codemirror_mode": {
    "name": "ipython",
    "version": 3
   },
   "file_extension": ".py",
   "mimetype": "text/x-python",
   "name": "python",
   "nbconvert_exporter": "python",
   "pygments_lexer": "ipython3",
   "version": "3.7.3"
  }
 },
 "nbformat": 4,
 "nbformat_minor": 2
}
