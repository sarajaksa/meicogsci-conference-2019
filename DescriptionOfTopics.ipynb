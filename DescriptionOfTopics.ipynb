{
 "cells": [
  {
   "cell_type": "markdown",
   "metadata": {},
   "source": [
    "# Description of Topics"
   ]
  },
  {
   "cell_type": "code",
   "execution_count": 1,
   "metadata": {},
   "outputs": [],
   "source": [
    "#import the libraries\n",
    "from constants import folder_meicogsci, folder_meicogsci_2019, folder_models, all_topics_names\n",
    "import collections\n",
    "import gensim\n",
    "import pandas\n",
    "import nltk\n",
    "import os"
   ]
  },
  {
   "cell_type": "code",
   "execution_count": 2,
   "metadata": {},
   "outputs": [],
   "source": [
    "#get the list of all files\n",
    "all_files = os.listdir(folder_meicogsci)"
   ]
  },
  {
   "cell_type": "code",
   "execution_count": 3,
   "metadata": {},
   "outputs": [],
   "source": [
    "#import model\n",
    "model_21 = gensim.models.LdaModel.load(os.path.join(folder_models, \"LDA_21\"))\n",
    "model_21.minimum_probability = 0.0"
   ]
  },
  {
   "cell_type": "code",
   "execution_count": 4,
   "metadata": {},
   "outputs": [],
   "source": [
    "#calculate the most important words for each topic\n",
    "current_model = model_21\n",
    "words_represented = dict()\n",
    "for topic_words in current_model.print_topics(num_topics=-1, num_words=40):\n",
    "    current_topic = topic_words[0]\n",
    "    words_represented[current_topic] = collections.defaultdict(list)\n",
    "    all_words = topic_words[1].split(\"+\")\n",
    "    all_words = [w.split(\"*\") for w in all_words]\n",
    "    all_words = [[float(weight), word.replace('\"', \"\").strip()] for weight, word in all_words]\n",
    "    all_words_relative = []\n",
    "    for weight, word in all_words:\n",
    "        all_groups = current_model.get_term_topics(word)\n",
    "        current_sum = sum([weight for topic, weight in all_groups])\n",
    "        current_relative_weight = [weight/current_sum for topic, weight in all_groups if topic == current_topic][0]\n",
    "        all_words_relative.append([current_relative_weight, weight, current_relative_weight*weight, word])\n",
    "    words_represented[current_topic] = all_words_relative"
   ]
  },
  {
   "cell_type": "code",
   "execution_count": 5,
   "metadata": {},
   "outputs": [],
   "source": [
    "# helping function for preprocessing text\n",
    "lem = nltk.stem.WordNetLemmatizer()"
   ]
  },
  {
   "cell_type": "code",
   "execution_count": 6,
   "metadata": {},
   "outputs": [],
   "source": [
    "# get the list of all titles with their topics\n",
    "all_files_by_topic = []\n",
    "for filename in all_files:\n",
    "    with open(os.path.join(folder_meicogsci, filename)) as f:\n",
    "        data = f.readlines()\n",
    "        title = data[0].replace(\"... title: \", \"\").replace(\"\\n\", \" \")\n",
    "        data = \" \".join(data).replace(\"... title: \", \"\").replace(\"\\n\", \" \")\n",
    "    data = data.lower()\n",
    "    data_tok = nltk.tokenize.word_tokenize(data)\n",
    "    data_tok = [lem.lemmatize(w) for w in data_tok]\n",
    "    doc_topics, _, _ = model_21.get_document_topics(model_21.id2word.doc2bow(data_tok), per_word_topics=True)\n",
    "    doc_topics = dict(doc_topics)\n",
    "    new_row = []\n",
    "    for i in range(21):\n",
    "        if i in doc_topics:\n",
    "            new_row.append(doc_topics[i])\n",
    "        else:\n",
    "            new_row.append(0)\n",
    "    new_row.append(filename)\n",
    "    new_row.append(title)\n",
    "    all_files_by_topic.append(new_row)"
   ]
  },
  {
   "cell_type": "code",
   "execution_count": 7,
   "metadata": {},
   "outputs": [],
   "source": [
    "all_files_by_topic = pandas.DataFrame(all_files_by_topic)"
   ]
  },
  {
   "cell_type": "code",
   "execution_count": 8,
   "metadata": {},
   "outputs": [],
   "source": [
    "#create the helping function for priting the info about topic\n",
    "def get_current_description_of_topic(model, i, words_represented, all_files_by_topic):\n",
    "    print(\"Topic: \" + all_topics_names[i].upper())\n",
    "    scores = pandas.DataFrame(words_represented[i], columns=[\"Relative\", \"Absolute\", \"Score\", \"Word\"])\n",
    "    print(\"Score: \" + \", \".join(scores.sort_values(by=\"Score\", ascending=False).head(10)[\"Word\"])[:-2])\n",
    "    print(\"Absolute measure: \" + \", \".join(scores.sort_values(by=\"Absolute\", ascending=False).head(10)[\"Word\"])[:-2])\n",
    "    print(\"Relative measure: \" + \", \".join(scores.sort_values(by=\"Relative\", ascending=False).head(10)[\"Word\"])[:-2])\n",
    "    all_titles = [list(row) for row_id, row in \n",
    "                  all_files_by_topic.sort_values(by=i, ascending=False).head(5)[[i, 22]].iterrows()]\n",
    "    print(\"Articles:\")\n",
    "    for value, title in all_titles:\n",
    "        print(\"    * \" + title + \" (\" + str(value*100)[:5] + \")\")"
   ]
  },
  {
   "cell_type": "markdown",
   "metadata": {},
   "source": [
    "In the following part, the topics are described. There are five parts in their description:\n",
    "    \n",
    "* Topic - the name of the topic\n",
    "* Score - metrics from Absolute and Relative\n",
    "* Absolute - importance of word inside the topic\n",
    "* Relative - importance of word compated to this topic and other topics\n",
    "* Articles - five articles, that have the highest value for this topic"
   ]
  },
  {
   "cell_type": "code",
   "execution_count": 9,
   "metadata": {},
   "outputs": [
    {
     "name": "stdout",
     "output_type": "stream",
     "text": [
      "Topic: PITCH\n",
      "Score: pitch, tone, musical, protein, stroke, native, grammar, curiosity, musician, spee\n",
      "Absolute measure: language, brain, speech, tone, ability, human, native, musical, pitch, percepti\n",
      "Relative measure: pitch, protein, musician, grammar, vocal, curiosity, musical, stroke, tone, syndro\n",
      "Articles:\n",
      "    * The effect of the harmonic context on the perception of pitch class  (87.86)\n",
      "    * Prosody of Slovak Motherese  (83.38)\n",
      "    * Talent for Accent: Is There a Correlation Between Phonetic Native and Foreign Language Aptitude?  (79.88)\n",
      "    * A Critical Replica of Diana Deutsch's auditory Octave Illusion  (79.35)\n",
      "    * Prosodic and Musical Abilities in English Language Pronunciation Learning  (75.33)\n"
     ]
    }
   ],
   "source": [
    "get_current_description_of_topic(current_model, 0, words_represented, all_files_by_topic)"
   ]
  },
  {
   "cell_type": "code",
   "execution_count": 10,
   "metadata": {},
   "outputs": [
    {
     "name": "stdout",
     "output_type": "stream",
     "text": [
      "Topic: MOVEMENT\n",
      "Score: movement, eye, mu rhythm, bci, eye tracking, rhythm, body, painting, food, eye moveme\n",
      "Absolute measure: movement, eye, system, motor, data, body, condition, rhythm, eeg, pictu\n",
      "Relative measure: mu rhythm, bci, eye tracking, painting, food, eye movement, movement, rhythm, style, e\n",
      "Articles:\n",
      "    * Motor resonance based on desynchronization of the EEG mu rhythm  (90.42)\n",
      "    * EEG mu rhythm desynchronisation: an electrophysiological evidence for mirror neurons activity  (80.02)\n",
      "    * Eyetracking on paintings  (80.01)\n",
      "    * Eye tracking on art paintings - differences between abstract and realistic paintings  (79.99)\n",
      "    * Evaluation of consumer EEG device Emotiv EPOC  (79.47)\n"
     ]
    }
   ],
   "source": [
    "get_current_description_of_topic(current_model, 1, words_represented, all_files_by_topic)"
   ]
  },
  {
   "cell_type": "code",
   "execution_count": 11,
   "metadata": {},
   "outputs": [
    {
     "name": "stdout",
     "output_type": "stream",
     "text": [
      "Topic: CATEGORIZATION\n",
      "Score: aesthetic, verbal, artwork, pigeon, app, art, array, pleasure, discrimination, ic\n",
      "Absolute measure: aesthetic, verbal, experiment, art, artwork, subject, pigeon, part, app, peop\n",
      "Relative measure: artwork, pigeon, icon, app, phonological loop, pleasure, liking, aesthetic, array, fluen\n",
      "Articles:\n",
      "    * Role of language in relational category discrimination  (89.41)\n",
      "    * LANGUAGE AND PERCEPTION: The impact of conges-tion language modality for differentiating relational categories  (87.00)\n",
      "    * Is Beauty Objective? An Experimental Study of Aesthetic Distance  (65.12)\n",
      "    * The relation of elaboration and liking in aesthetic perception: Aesthetics as the pleasure of enacting meaning  (63.17)\n",
      "    * A computational morphology approach to Croatian noun inflection with focus on gender prediction  (61.86)\n"
     ]
    }
   ],
   "source": [
    "get_current_description_of_topic(current_model, 2, words_represented, all_files_by_topic)"
   ]
  },
  {
   "cell_type": "code",
   "execution_count": 12,
   "metadata": {},
   "outputs": [
    {
     "name": "stdout",
     "output_type": "stream",
     "text": [
      "Topic: MODELING\n",
      "Score: model, simulation, strategy, need, system, theory, communication, author, agent, interacti\n",
      "Absolute measure: model, system, theory, cognitive, human, need, simulation, strategy, agent, informati\n",
      "Relative measure: simulation, strategy, model, need, author, computational, communication, framework, step, behavio\n",
      "Articles:\n",
      "    * Towards opening black boxes in behavioral science through simulation  (83.89)\n",
      "    * Can Economic Models Be Epistemic Vehicles?  (80.93)\n",
      "    * Complex Skill Development with Starcraft 2  (80.65)\n",
      "    * Cognitive aspects of StarCraft 2  (79.16)\n",
      "    * Cognitive aspects of Starcraft 2  (72.14)\n"
     ]
    }
   ],
   "source": [
    "get_current_description_of_topic(current_model, 3, words_represented, all_files_by_topic)"
   ]
  },
  {
   "cell_type": "code",
   "execution_count": 13,
   "metadata": {},
   "outputs": [
    {
     "name": "stdout",
     "output_type": "stream",
     "text": [
      "Topic: SOCIETY\n",
      "Score: social, behavior, psychotherapy, human, interaction, specie, field, theoretical, individual, rewa\n",
      "Absolute measure: social, human, behavior, cognitive, interaction, theory, field, individual, model, analys\n",
      "Relative measure: psychotherapy, social, specie, behavior, awareness, theoretical, interaction, literature, architecture, rewa\n",
      "Articles:\n",
      "    * !!The Costs of Being Behind a Screen – Could Social Media Use be Addictive?  (88.51)\n",
      "    * Darwin, The Functionalist Approach to Modern Psychology and the Central European Heritage  (87.69)\n",
      "    * Agent-based Modeling: A Novel Practitioner’s Generative View on Social Systems  (84.15)\n",
      "    * Modeling of social learning in ravens  (83.02)\n",
      "    * Simulating the Emergence of Social Complexity Using Agent-Based Modelling  (82.18)\n"
     ]
    }
   ],
   "source": [
    "get_current_description_of_topic(current_model, 4, words_represented, all_files_by_topic)"
   ]
  },
  {
   "cell_type": "code",
   "execution_count": 14,
   "metadata": {},
   "outputs": [
    {
     "name": "stdout",
     "output_type": "stream",
     "text": [
      "Topic: DECISION MAKING\n",
      "Score: decision, decision making, making, moral, user, risk, satisfaction, bias, emotional, situati\n",
      "Absolute measure: decision, decision making, user, making, participant, moral, emotional, group, people, situati\n",
      "Relative measure: moral, decision making, making, satisfaction, decision, bias, risk, story, user, affecti\n",
      "Articles:\n",
      "    * Illusion of Control and Persistence  (83.95)\n",
      "    * Empathy and Prosocial Behavior across the Lifespan  (80.53)\n",
      "    * The Gamification of a Tax Experiment  (80.49)\n",
      "    * Life Satisfaction in Old Age: Comparing the Successful and Harmonious Aging Approaches  (79.90)\n",
      "    * Organizational Failure and Decision Making  (79.55)\n"
     ]
    }
   ],
   "source": [
    "get_current_description_of_topic(current_model, 5, words_represented, all_files_by_topic)"
   ]
  },
  {
   "cell_type": "code",
   "execution_count": 15,
   "metadata": {},
   "outputs": [
    {
     "name": "stdout",
     "output_type": "stream",
     "text": [
      "Topic: NON-TYPICAL\n",
      "Score: patient, disease, response, dancer, asd, mental imagery, hand, imagery, blood, hea\n",
      "Absolute measure: patient, response, participant, disease, condition, group, hand, stimulus, problem, activi\n",
      "Relative measure: asd, mental imagery, heart, disease, dancer, blood, diagnosis, skin, imagery, patie\n",
      "Articles:\n",
      "    * Differences in EEG and Autonomic Nervous System Activity as a Potential Biomarker in Depressive Disorders  (86.92)\n",
      "    * Diagnosing of Narcolepsy in Slovenia  (85.03)\n",
      "    * Movement mental imagery to groovy and non-groovy music in dancers and non-dancers  (83.84)\n",
      "    * Discovering Biomarkers of Alzheimer Disease  (81.82)\n",
      "    * Action observation and motor imagery effects on motor learning  (71.51)\n"
     ]
    }
   ],
   "source": [
    "get_current_description_of_topic(current_model, 6, words_represented, all_files_by_topic)"
   ]
  },
  {
   "cell_type": "code",
   "execution_count": 16,
   "metadata": {},
   "outputs": [
    {
     "name": "stdout",
     "output_type": "stream",
     "text": [
      "Topic: NEUROSCIENCE\n",
      "Score: receptor, brain, eeg, subunit, region, fmri, connectivity, amplitude, functional, functi\n",
      "Absolute measure: brain, task, cognitive, eeg, method, data, memory, stimulus, receptor, functi\n",
      "Relative measure: subunit, receptor, connectivity, amplitude, region, fmri, eeg, functional, working memory, rhyt\n",
      "Articles:\n",
      "    * Duration of tissue fixation does not influence immunohistochemical staining of GABA-A receptor subunits in human hippocampus  (89.04)\n",
      "    * Gabaa Receptor Subunit Distribution & Variants  (87.67)\n",
      "    * Investigating brain functional connectivity with simultaneous EEG and fMRI recordings  (86.47)\n",
      "    * GABA-A Receptors in Anxiety and Fear  (86.18)\n",
      "    * EEG-fMRI source localization  (79.96)\n"
     ]
    }
   ],
   "source": [
    "get_current_description_of_topic(current_model, 7, words_represented, all_files_by_topic)"
   ]
  },
  {
   "cell_type": "code",
   "execution_count": 17,
   "metadata": {},
   "outputs": [
    {
     "name": "stdout",
     "output_type": "stream",
     "text": [
      "Topic: CONSTRUCTIVISM\n",
      "Score: experience, emotion, consciousness, phenomenological, conscious, interview, pain, knowledge, need, mi\n",
      "Absolute measure: experience, emotion, process, knowledge, theory, method, consciousness, phenomenological, question, conscio\n",
      "Relative measure: conscious, phenomenological, consciousness, pain, experience, interview, emotion, thought, view, explanati\n",
      "Articles:\n",
      "    * Music Emotions as Conceptual Acts?  (90.64)\n",
      "    * In Search for a Middle Way  (89.62)\n",
      "    * Experience of Sexual Fantasy  (88.60)\n",
      "    * Pain Asymbolia and Nature of Pain  (85.92)\n",
      "    * Rethinking materialism: an outline of integrative science  (82.77)\n"
     ]
    }
   ],
   "source": [
    "get_current_description_of_topic(current_model, 8, words_represented, all_files_by_topic)"
   ]
  },
  {
   "cell_type": "code",
   "execution_count": 18,
   "metadata": {},
   "outputs": [
    {
     "name": "stdout",
     "output_type": "stream",
     "text": [
      "Topic: HEALTH\n",
      "Score: sleep, memory, deprivation, sleep deprivation, false, placebo, hour, innovation, placebo effect, d\n",
      "Absolute measure: memory, sleep, effect, deprivation, sleep deprivation, time, false, placebo, cognitive, experime\n",
      "Relative measure: deprivation, sleep deprivation, placebo effect, false, placebo, sleep, hour, cognitive function, innovation, bli\n",
      "Articles:\n",
      "    * Effects of Sleep Deprivation on Motor and Cognitive Performance  (71.43)\n",
      "    * Placebo Effect Triggers and Their Possible Merit in Effectiveness of Complementary and Alternative Medicine Practices  (70.48)\n",
      "    * Effects of Humor and Laughter Group Therapy on People with Depressive Disorder  (66.41)\n",
      "    * The influence of sleep deficit on false memory phenomenon  (65.10)\n",
      "    * Does Daytime Saving Time Steal Your Time?  (60.70)\n"
     ]
    }
   ],
   "source": [
    "get_current_description_of_topic(current_model, 9, words_represented, all_files_by_topic)"
   ]
  },
  {
   "cell_type": "code",
   "execution_count": 19,
   "metadata": {},
   "outputs": [
    {
     "name": "stdout",
     "output_type": "stream",
     "text": [
      "Topic: PERCEPTION\n",
      "Score: target, color, visual, death, attention, stimulus, screen, distractors, attentional, sce\n",
      "Absolute measure: visual, stimulus, attention, target, task, participant, color, subject, time, obje\n",
      "Relative measure: death, distractors, mortality, color, scene, target, attentional, screen, reaction time, nov\n",
      "Articles:\n",
      "    * ===============      !!!!PRIMING OF VISUAL ATTENTION IN DYNAMIC VISUAL SCENES- AN EXPERIMENTAL STUDY USING EYE TRACKING  (84.62)\n",
      "    * The Effect of Haptic Guidance on Motor Learning of Rhythmic Sequences  (73.79)\n",
      "    * The Meaning of Dying  (73.68)\n",
      "    * !!!! A Visuo-Spatial Cueing Experiment for Unconscious Peripheral Vision  (72.70)\n",
      "    * Visual attention and action 3D video games  (72.64)\n"
     ]
    }
   ],
   "source": [
    "get_current_description_of_topic(current_model, 10, words_represented, all_files_by_topic)"
   ]
  },
  {
   "cell_type": "code",
   "execution_count": 20,
   "metadata": {},
   "outputs": [
    {
     "name": "stdout",
     "output_type": "stream",
     "text": [
      "Topic: LEARNING\n",
      "Score: child, cognitive, student, cognitive control, educational, control, school, education, group, ta\n",
      "Absolute measure: cognitive, task, group, control, child, student, performance, process, cognitive control, educati\n",
      "Relative measure: educational, cognitive control, school, education, child, management, student, stress, impairment, contr\n",
      "Articles:\n",
      "    * 3D TRIANGULATION AS A METHOD FOR EVALUATION OF DYSTONIA IN PATIENTS WITH TORTICOLLIS  (85.77)\n",
      "    * Treating children with epilepsy  (85.76)\n",
      "    * Influence of alternative education on cooperativeness  (79.12)\n",
      "    * Effects of cognitive and motor tasks on gait parameters and stride variability during treadmill walking  (78.95)\n",
      "    * The Embodied Cognition Explored on a Case Study  (69.40)\n"
     ]
    }
   ],
   "source": [
    "get_current_description_of_topic(current_model, 11, words_represented, all_files_by_topic)"
   ]
  },
  {
   "cell_type": "code",
   "execution_count": 21,
   "metadata": {},
   "outputs": [
    {
     "name": "stdout",
     "output_type": "stream",
     "text": [
      "Topic: VERBALIZATION\n",
      "Score: sound, meditation, metaphor, prediction, schizophrenia, beat, sentence, mindfulness meditation, creative, prediction err\n",
      "Absolute measure: sound, meditation, prediction, sentence, metaphor, schizophrenia, beat, model, sense, se\n",
      "Relative measure: prediction error, mindfulness meditation, meditation, aha, metaphor, meditators, beat, sound, schizophrenia, predicti\n",
      "Articles:\n",
      "    * The Aesthetic Reset – Mechanism and Function of the Aesthetic Experience in the Predictive Mind  (82.35)\n",
      "    * 'Fictive' sounds in language: processing of abstract sentences encoding fictive sounds evoke sound representations  (80.97)\n",
      "    * Speech alterations in schizophrenia  (57.00)\n",
      "    * Towards a Sensorimotor Account of Schizophrenic Self-disorders  (54.56)\n",
      "    * Challenges for Embodiment: the Case of Language Change  (54.27)\n"
     ]
    }
   ],
   "source": [
    "get_current_description_of_topic(current_model, 12, words_represented, all_files_by_topic)"
   ]
  },
  {
   "cell_type": "code",
   "execution_count": 22,
   "metadata": {},
   "outputs": [
    {
     "name": "stdout",
     "output_type": "stream",
     "text": [
      "Topic: LANGUAGE\n",
      "Score: word, language, text, comprehension, lexical, sentence, semantic, slovene, meaning, linguist\n",
      "Absolute measure: language, word, sentence, text, processing, information, linguistic, semantic, comprehension, participa\n",
      "Relative measure: syntactic, lexical, slovene, word, comprehension, text, corpus, verb, semantic, langua\n",
      "Articles:\n",
      "    * !!!!Acquisition of Slovene Adjective Inflection and Semantics  (84.24)\n",
      "    * Using Clustering to Determine the Basic Structure of Natural Language  (81.76)\n",
      "    * Slovene compounds: Towards a psycholinguistic approach  (81.43)\n",
      "    * Meaning in Morphological Decomposition  (80.90)\n",
      "    * Acquisition Of Slovene Adjective Inflection And Semantics  (78.51)\n"
     ]
    }
   ],
   "source": [
    "get_current_description_of_topic(current_model, 13, words_represented, all_files_by_topic)"
   ]
  },
  {
   "cell_type": "code",
   "execution_count": 23,
   "metadata": {},
   "outputs": [
    {
     "name": "stdout",
     "output_type": "stream",
     "text": [
      "Topic: REASONING\n",
      "Score: spatial, working memory, memory, information, capacity, object, probability, scheme, change, scien\n",
      "Absolute measure: memory, information, cognitive, object, change, theory, spatial, science, visual, working memo\n",
      "Relative measure: scheme, probability, spatial, agency, capacity, creation, working memory, scientist, problem solving, fr\n",
      "Articles:\n",
      "    * Memory: A Paradigm for Reductionism?  (77.11)\n",
      "    * The Medium Is the Message: How Presentation Formats Help People Ask Better Questions  (75.39)\n",
      "    * Some “Internal” Problems of Normative Theories of Thinking and Reasoning  (71.27)\n",
      "    * Making Sense  (70.73)\n",
      "    * Learning Environmental Probabilities in Changing Worlds  (69.61)\n"
     ]
    }
   ],
   "source": [
    "get_current_description_of_topic(current_model, 14, words_represented, all_files_by_topic)"
   ]
  },
  {
   "cell_type": "code",
   "execution_count": 24,
   "metadata": {},
   "outputs": [
    {
     "name": "stdout",
     "output_type": "stream",
     "text": [
      "Topic: ATTENTION\n",
      "Score: face, attention, gaze, dog, female, image, male, eye, mirror neuron, mirr\n",
      "Absolute measure: attention, task, eye, image, face, participant, emotional, gaze, stimulus, recogniti\n",
      "Relative measure: face, dog, female, mirror neuron, gaze, male, mirror, conflict, fixation, attenti\n",
      "Articles:\n",
      "    * EYE MOVEMENT CORRELATES FOR THE FACE RECOGNITION  (92.04)\n",
      "    * Enhancing the Concealed Information Test via Emphasis on Semantic Associations  (66.81)\n",
      "    * Towards an Understanding of the Emotional Modulation Effects of Focused Attention Meditation  (61.57)\n",
      "    * Romantic Love and Visual Recognition  (53.44)\n",
      "    * Emergence of Visual Consciousness in ADHD Children  (52.67)\n"
     ]
    }
   ],
   "source": [
    "get_current_description_of_topic(current_model, 15, words_represented, all_files_by_topic)"
   ]
  },
  {
   "cell_type": "code",
   "execution_count": 25,
   "metadata": {},
   "outputs": [
    {
     "name": "stdout",
     "output_type": "stream",
     "text": [
      "Topic: SYSTEM\n",
      "Score: legal, gesture, article, robot, rule, dance, algorithm, vowel, system, machi\n",
      "Absolute measure: system, human, legal, robot, algorithm, gesture, rule, agent, language, wo\n",
      "Relative measure: legal, vowel, gesture, article, dance, reasoning, rule, code, machine, devi\n",
      "Articles:\n",
      "    * Adaptive Gesture Recognition System, transforming Dance Performance into Music  (82.87)\n",
      "    * Logical cognitive analysis of legal reasoning  (80.40)\n",
      "    * Prosodic Cues in a Reference Resolution Algorithm  (66.88)\n",
      "    * Communication platform for agents in heterogeneous environment  (62.99)\n",
      "    * Explaining Robot Actions  (61.54)\n"
     ]
    }
   ],
   "source": [
    "get_current_description_of_topic(current_model, 16, words_represented, all_files_by_topic)"
   ]
  },
  {
   "cell_type": "code",
   "execution_count": 26,
   "metadata": {},
   "outputs": [
    {
     "name": "stdout",
     "output_type": "stream",
     "text": [
      "Topic: TASKS\n",
      "Score: game, player, serious, empathy, design, message, trust, norm, physic, listen\n",
      "Absolute measure: game, player, design, participant, empathy, level, serious, message, trust, peop\n",
      "Relative measure: serious, physic, message, game, trust, norm, listener, empathy, player, desi\n",
      "Articles:\n",
      "    * Playing and Learning  (87.72)\n",
      "    * Fetal Testosterone and Autism  (78.53)\n",
      "    * Empathy of Catholics  (74.58)\n",
      "    * Explaining the Divergent Effects of Socioeconomic Status on Prosocial and Antisocial Behaviour in Economic Decision Making  (70.69)\n",
      "    * “Trust development in repeated interactions: The relationship between implicit and explicit measures of trust and personality variables.“  (68.01)\n"
     ]
    }
   ],
   "source": [
    "get_current_description_of_topic(current_model, 17, words_represented, all_files_by_topic)"
   ]
  },
  {
   "cell_type": "code",
   "execution_count": 27,
   "metadata": {},
   "outputs": [
    {
     "name": "stdout",
     "output_type": "stream",
     "text": [
      "Topic: TMS\n",
      "Score: tm, stimulation, cortex, motor, rtms, magnetic, cortical, motor cortex, brain, protoc\n",
      "Absolute measure: brain, motor, tm, stimulation, cortex, area, effect, cortical, subject, depressi\n",
      "Relative measure: rtms, transcranial, transcranial magnetic stimulation, tm, excitability, stimulation, motor cortex, magnetic, prefrontal cortex, pul\n",
      "Articles:\n",
      "    * Plasticity of the primary motor cortex in learning new movement trajectories  (86.46)\n",
      "    * Making a Case for Theta Burst Stimulation in Treatment of Depression  (86.01)\n",
      "    * Combining Electroencephalography With Transcranial Magnetic Stimulation As a New Step in Understanding Mechanisms of Non-invasive Brain Stimulation Techniques  (77.39)\n",
      "    * Effects of TMS Protocols on the Neuroplasticity of the Primary Motor Cortex  (77.26)\n",
      "    * Measuring Direct Effect of cTBS over Right DLPFC on Processing Cognitive-emotional Tasks and Its Efficiency as a Depression Treatment over Time  (76.84)\n"
     ]
    }
   ],
   "source": [
    "get_current_description_of_topic(current_model, 18, words_represented, all_files_by_topic)"
   ]
  },
  {
   "cell_type": "code",
   "execution_count": 28,
   "metadata": {},
   "outputs": [
    {
     "name": "stdout",
     "output_type": "stream",
     "text": [
      "Topic: NEURAL NETWORKS\n",
      "Score: network, problem, neuron, layer, cell, neural network, neural, matrix, representation, creativi\n",
      "Absolute measure: network, problem, neuron, neural, representation, neural network, model, cell, layer, da\n",
      "Relative measure: layer, dataset, matrix, creativity, cell, neuron, problem solving, mathematical, network, neural netwo\n",
      "Articles:\n",
      "    * Toward Evolutionary Design Optimization by Cellular Representations with Implicit Ontogeny  (89.33)\n",
      "    * The Role of Mental Representations in Problem Solving Process  (76.51)\n",
      "    * USING DEEP BELIEF NETWORK IN OBJECT RECOGNITION  (73.63)\n",
      "    * Testing the hierarchical neural network DBN in invariant object recognition  (69.88)\n",
      "    * Blockchain-based IoT Data Storage  (65.83)\n"
     ]
    }
   ],
   "source": [
    "get_current_description_of_topic(current_model, 19, words_represented, all_files_by_topic)"
   ]
  },
  {
   "cell_type": "code",
   "execution_count": 29,
   "metadata": {},
   "outputs": [
    {
     "name": "stdout",
     "output_type": "stream",
     "text": [
      "Topic: REINFORCMENT LEARNING\n",
      "Score: agent, action, reward, robot, reinforcement, environment, reinforcement learning, learning, motivation, act\n",
      "Absolute measure: agent, action, robot, environment, learning, reward, neural, image, model, sta\n",
      "Relative measure: reinforcement learning, reinforcement, actor, reward, agent, motivation, mobile, robot, action, fr\n",
      "Articles:\n",
      "    * Modeling of behavior of cognitive agents in a virtual world in the TerraSim simulation environment  (92.10)\n",
      "    * Inter-agent communication as a mean of achieving objectives  (87.43)\n",
      "    * Goal-driven developmental learning on a mobile robot  (85.42)\n",
      "    * Deep Reinforcement Learning for Computer Games  (83.65)\n",
      "    * Learning the Instructions How to Reach with a Simulated Robotic Arm  (81.81)\n"
     ]
    }
   ],
   "source": [
    "get_current_description_of_topic(current_model, 20, words_represented, all_files_by_topic)"
   ]
  },
  {
   "cell_type": "code",
   "execution_count": null,
   "metadata": {},
   "outputs": [],
   "source": []
  }
 ],
 "metadata": {
  "kernelspec": {
   "display_name": "Python 3",
   "language": "python",
   "name": "python3"
  },
  "language_info": {
   "codemirror_mode": {
    "name": "ipython",
    "version": 3
   },
   "file_extension": ".py",
   "mimetype": "text/x-python",
   "name": "python",
   "nbconvert_exporter": "python",
   "pygments_lexer": "ipython3",
   "version": "3.7.3"
  }
 },
 "nbformat": 4,
 "nbformat_minor": 2
}
