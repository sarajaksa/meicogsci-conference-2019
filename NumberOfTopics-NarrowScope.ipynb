{
 "cells": [
  {
   "cell_type": "markdown",
   "metadata": {},
   "source": [
    "# Choosing Number of Topics 2"
   ]
  },
  {
   "cell_type": "markdown",
   "metadata": {},
   "source": [
    "In this one I am going to be using the narrower range that I got before to get a more exact number of topics. "
   ]
  },
  {
   "cell_type": "code",
   "execution_count": 39,
   "metadata": {},
   "outputs": [],
   "source": [
    "from constants import folder_meicogsci, folder_models, folder_vis\n",
    "from sklearn.decomposition import TruncatedSVD\n",
    "from gensim.test.utils import datapath\n",
    "import matplotlib.pyplot as plt\n",
    "import pyLDAvis.gensim\n",
    "import collections\n",
    "import itertools\n",
    "import pyLDAvis\n",
    "import networkx\n",
    "import sklearn\n",
    "import pandas\n",
    "import string\n",
    "import gensim\n",
    "import pickle\n",
    "import random\n",
    "import numpy\n",
    "import nltk\n",
    "import os"
   ]
  },
  {
   "cell_type": "code",
   "execution_count": 9,
   "metadata": {},
   "outputs": [],
   "source": [
    "# here are the list of files and supporting functions\n",
    "all_files = os.listdir(folder_meicogsci)\n",
    "stop_words = set(nltk.corpus.stopwords.words(\"english\"))\n",
    "lem = nltk.stem.WordNetLemmatizer()\n",
    "stem = nltk.stem.porter.PorterStemmer()"
   ]
  },
  {
   "cell_type": "code",
   "execution_count": 10,
   "metadata": {},
   "outputs": [],
   "source": [
    "#here I am preprocessing the text\n",
    "text_words_all_words_noprocess = collections.defaultdict(dict)\n",
    "for filename in all_files:\n",
    "    text_name = filename.split(\"_\")[-1].replace(\".txt\", \"\")\n",
    "    with open(os.path.join(folder_meicogsci, filename)) as f:\n",
    "        data_file_raw = f.readlines()\n",
    "    # the following part is here to eliminate the rows, that are just citations, since they are providing noise\n",
    "    data_file = data_file_raw[:-7][:]\n",
    "    for row in data_file_raw[-7:][:]:\n",
    "        row = row.strip()\n",
    "        if len(row) > 2:\n",
    "            if not row[0] == \"[\" and not row[2] == \"]\":\n",
    "                data_file.append(row)\n",
    "    # the following part is there to eliminate the rown, that are just thanks\n",
    "    data_file = [row for row in data_file if \"special thanks\" not in row.lower()]\n",
    "    data_file = [row for row in data_file if \"acknowledgements\" not in row.lower()]\n",
    "    data_file = [row for row in data_file if \"I would like to thank\" not in row.lower()]\n",
    "    data_file = [row for row in data_file if \"we thank\" not in row.lower()]\n",
    "    data_file = [row for row in data_file if \"special thanks\" not in row.lower()]\n",
    "    data_file = [row for row in data_file if \"sincere thanks\" not in row.lower()]\n",
    "    data_file = [row for row in data_file if \"many thanks\" not in row.lower()]\n",
    "    # the following part is there to eliminate the abstract and reference header\n",
    "    data_file = [row for row in data_file if \"abstract\" not in row.lower() or len(row) > 25]\n",
    "    data_file = [row for row in data_file if \"reference\" not in row.lower() or len(row) > 25]\n",
    "    data_file = [row for row in data_file if \"university press\" not in row.lower()]\n",
    "    # the the text is being put in the format, that makes it more informative to compare\n",
    "    data_file = \" \".join(data_file)\n",
    "    data_file = data_file.replace(\"... title:\", \"\")\n",
    "    data_file = data_file.lower()\n",
    "    data_file = data_file.replace(\"-\", \" \").replace(\"/\", \" \").replace(\"–\", \" \") \n",
    "    # here, the test is being split into words and compared based on that\n",
    "    data_words = nltk.tokenize.word_tokenize(data_file)\n",
    "    data_words = [w.strip() for w in data_words if w.strip()]\n",
    "    # this is prefiltering based on 1-grams\n",
    "    data_words_filtered_nltk = nltk.pos_tag(data_words)\n",
    "    data_words_filtered = [w for w, pos in data_words_filtered_nltk if pos[:2] in {\"JJ\", \"NN\"}]\n",
    "    data_words_filtered = [w for w in data_words_filtered if w not in stop_words and w not in string.punctuation and w not in \"`’”“\"]\n",
    "    data_words_filtered = [w for w in data_words_filtered if len(w) > 2]\n",
    "    data_words_filtered = [lem.lemmatize(w) for w in data_words_filtered]\n",
    "    text_words_all_words_noprocess[text_name][1] = data_words_filtered\n",
    "    # this is prefiltering based on 2-grams\n",
    "    data_bigrams = nltk.bigrams(data_words)\n",
    "    data_bigrams = [(w1, w2) for w1, w2 in data_bigrams if w1 not in string.punctuation and w2 not in string.punctuation]\n",
    "    data_bigrams = [(w1, w2) for w1, w2 in data_bigrams if w1 not in \"`’”“\" and w2 not in \"`’”“\"]\n",
    "    data_bigrams = [(w1, w2) for w1, w2 in data_bigrams if w1 not in stop_words and w2 not in stop_words]\n",
    "    data_bigrams = [(w1, w2) for w1, w2 in data_bigrams if nltk.pos_tag(w1)[0][1][:2] in {\"JJ\", \"NN\"} and nltk.pos_tag(w2)[0][1][:2] in {\"JJ\", \"NN\"}]\n",
    "    data_bigrams = [(lem.lemmatize(w1), lem.lemmatize(w2)) for w1, w2 in data_bigrams]\n",
    "    text_words_all_words_noprocess[text_name][2] = data_bigrams\n",
    "    # this is prefiltering based on 3-grams\n",
    "    data_trigrams = nltk.ngrams(data_words, 3)\n",
    "    data_trigrams = [(w1, w2, w3) for w1, w2, w3 in data_trigrams if w1 not in stop_words and w2 not in stop_words and w3 not in stop_words]\n",
    "    data_trigrams = [(w1, w2, w3) for w1, w2, w3 in data_trigrams if w1 not in string.punctuation and  w2 not in string.punctuation and w3 not in string.punctuation]\n",
    "    data_trigrams = [(w1, w2, w3) for w1, w2, w3 in data_trigrams if w1 not in \"`’”“\" and w2 not in \"`’”“\" and w3 not in \"`’”“\"]\n",
    "    data_trigrams = [(w1, w2, w3) for w1, w2, w3 in data_trigrams if nltk.pos_tag([w1])[0][1][:2] in {\"JJ\", \"NN\"} and nltk.pos_tag([w2])[0][1][:2] in {\"JJ\", \"NN\"} and nltk.pos_tag([w3])[0][1][:2] in {\"JJ\", \"NN\"}]\n",
    "    data_trigrams = [(lem.lemmatize(w1), lem.lemmatize(w2), lem.lemmatize(w3)) for w1, w2, w3 in data_trigrams]\n",
    "    text_words_all_words_noprocess[text_name][3] = data_trigrams"
   ]
  },
  {
   "cell_type": "code",
   "execution_count": 11,
   "metadata": {},
   "outputs": [
    {
     "data": {
      "text/plain": [
       "744"
      ]
     },
     "execution_count": 11,
     "metadata": {},
     "output_type": "execute_result"
    }
   ],
   "source": [
    "# here I am checking the number of files that I am getting\n",
    "number_of_files = len(text_words_all_words_noprocess)\n",
    "number_of_files"
   ]
  },
  {
   "cell_type": "code",
   "execution_count": 24,
   "metadata": {},
   "outputs": [],
   "source": [
    "# this is a preprocessing for one-grams\n",
    "all_one_grams = []\n",
    "for text_id, info in text_words_all_words_noprocess.items():\n",
    "    all_one_grams += set(info[1])"
   ]
  },
  {
   "cell_type": "code",
   "execution_count": 25,
   "metadata": {},
   "outputs": [],
   "source": [
    "all_one_grams = collections.Counter(all_one_grams)"
   ]
  },
  {
   "cell_type": "code",
   "execution_count": 26,
   "metadata": {},
   "outputs": [],
   "source": [
    "keep_one_grams = set([w for w, count in all_one_grams.items() if count <= number_of_files*0.5 and count >= 5])"
   ]
  },
  {
   "cell_type": "code",
   "execution_count": 27,
   "metadata": {},
   "outputs": [],
   "source": [
    "# this is a preprocessing for two-grams\n",
    "all_two_grams = []\n",
    "for text_id, info in text_words_all_words_noprocess.items():\n",
    "    all_two_grams += set(info[2])"
   ]
  },
  {
   "cell_type": "code",
   "execution_count": 28,
   "metadata": {},
   "outputs": [],
   "source": [
    "all_two_grams = collections.Counter(all_two_grams)"
   ]
  },
  {
   "cell_type": "code",
   "execution_count": 29,
   "metadata": {},
   "outputs": [],
   "source": [
    "keep_two_grams = set([w for w, count in all_two_grams.items() if count >= 5])"
   ]
  },
  {
   "cell_type": "code",
   "execution_count": 30,
   "metadata": {},
   "outputs": [],
   "source": [
    "# this is a preprocessing for three-grams\n",
    "all_three_grams = []\n",
    "for text_id, info in text_words_all_words_noprocess.items():\n",
    "    all_three_grams += set(info[3])"
   ]
  },
  {
   "cell_type": "code",
   "execution_count": 31,
   "metadata": {},
   "outputs": [],
   "source": [
    "all_three_grams = collections.Counter(all_three_grams)"
   ]
  },
  {
   "cell_type": "code",
   "execution_count": 32,
   "metadata": {},
   "outputs": [],
   "source": [
    "keep_three_grams = set([w for w, count in all_three_grams.items() if count >= 5])"
   ]
  },
  {
   "cell_type": "code",
   "execution_count": 33,
   "metadata": {},
   "outputs": [],
   "source": [
    "# this is putting all the words together\n",
    "text_words_all_words_process = collections.defaultdict(dict)\n",
    "for text_id, info in text_words_all_words_noprocess.items():\n",
    "    text_words_all_words_process[text_id][1] = [w for w in info[1] if w in keep_one_grams]\n",
    "    text_words_all_words_process[text_id][2] = [\" \".join(w) for w in info[2] if w in keep_two_grams]\n",
    "    text_words_all_words_process[text_id][3] = [\" \".join(w) for w in info[3] if w in keep_three_grams]"
   ]
  },
  {
   "cell_type": "code",
   "execution_count": 34,
   "metadata": {},
   "outputs": [],
   "source": [
    "text_words_all_words_process_list = collections.defaultdict(list)\n",
    "for text_id, info in text_words_all_words_process.items():\n",
    "    text_words_all_words_process_list[text_id] += info[1]\n",
    "    text_words_all_words_process_list[text_id] += info[2]\n",
    "    text_words_all_words_process_list[text_id] += info[3]"
   ]
  },
  {
   "cell_type": "code",
   "execution_count": 35,
   "metadata": {},
   "outputs": [],
   "source": [
    "# this is preparing thexts for modeling\n",
    "all_texts = [t for t in text_words_all_words_process_list.values()]"
   ]
  },
  {
   "cell_type": "code",
   "execution_count": 36,
   "metadata": {},
   "outputs": [],
   "source": [
    "dictionary = gensim.corpora.Dictionary(all_texts)"
   ]
  },
  {
   "cell_type": "code",
   "execution_count": 37,
   "metadata": {},
   "outputs": [],
   "source": [
    "doc_term_matrix = [dictionary.doc2bow(doc) for doc in all_texts]"
   ]
  },
  {
   "cell_type": "code",
   "execution_count": 41,
   "metadata": {},
   "outputs": [],
   "source": [
    "# Here I am spliting the abstracts into train and test set. \n",
    "# There are 50 elements in the test set, the rest are traning set. \n",
    "random.seed(42)\n",
    "train_and_test = [i for i in range(len(all_files))]\n",
    "random.shuffle(train_and_test)\n",
    "train = train_and_test[:-50]\n",
    "test = train_and_test[-50:]"
   ]
  },
  {
   "cell_type": "code",
   "execution_count": 107,
   "metadata": {},
   "outputs": [
    {
     "data": {
      "text/plain": [
       "[549,\n",
       " 470,\n",
       " 44,\n",
       " 270,\n",
       " 618,\n",
       " 352,\n",
       " 367,\n",
       " 99,\n",
       " 389,\n",
       " 94,\n",
       " 736,\n",
       " 344,\n",
       " 220,\n",
       " 159,\n",
       " 713,\n",
       " 348,\n",
       " 731,\n",
       " 163,\n",
       " 6,\n",
       " 284,\n",
       " 603,\n",
       " 459,\n",
       " 225,\n",
       " 429,\n",
       " 734,\n",
       " 718,\n",
       " 665,\n",
       " 203,\n",
       " 574,\n",
       " 27,\n",
       " 616,\n",
       " 517,\n",
       " 238,\n",
       " 223,\n",
       " 95,\n",
       " 30,\n",
       " 32,\n",
       " 432,\n",
       " 604,\n",
       " 89,\n",
       " 558,\n",
       " 692,\n",
       " 104,\n",
       " 142,\n",
       " 228,\n",
       " 250,\n",
       " 281,\n",
       " 25,\n",
       " 114,\n",
       " 654]"
      ]
     },
     "execution_count": 107,
     "metadata": {},
     "output_type": "execute_result"
    }
   ],
   "source": [
    "test"
   ]
  },
  {
   "cell_type": "code",
   "execution_count": 42,
   "metadata": {},
   "outputs": [],
   "source": [
    "all_texts_train = [t for i, t in enumerate(all_texts) if i in train]\n",
    "all_texts_test = [t for i, t in enumerate(all_texts) if i in test]"
   ]
  },
  {
   "cell_type": "code",
   "execution_count": 43,
   "metadata": {},
   "outputs": [],
   "source": [
    "doc_term_matrix_train = [dictionary.doc2bow(doc) for doc in all_texts_train]\n",
    "doc_term_matrix_test = [dictionary.doc2bow(doc) for doc in all_texts_test]"
   ]
  },
  {
   "cell_type": "code",
   "execution_count": 88,
   "metadata": {},
   "outputs": [],
   "source": [
    "models = []"
   ]
  },
  {
   "cell_type": "code",
   "execution_count": 89,
   "metadata": {},
   "outputs": [
    {
     "name": "stdout",
     "output_type": "stream",
     "text": [
      "20\n"
     ]
    },
    {
     "name": "stderr",
     "output_type": "stream",
     "text": [
      "/usr/lib/python3.7/site-packages/pyLDAvis/_prepare.py:257: FutureWarning: Sorting because non-concatenation axis is not aligned. A future version\n",
      "of pandas will change to not sort by default.\n",
      "\n",
      "To accept the future behavior, pass 'sort=False'.\n",
      "\n",
      "To retain the current behavior and silence the warning, pass 'sort=True'.\n",
      "\n",
      "  return pd.concat([default_term_info] + list(topic_dfs))\n"
     ]
    },
    {
     "name": "stdout",
     "output_type": "stream",
     "text": [
      "21\n"
     ]
    },
    {
     "name": "stderr",
     "output_type": "stream",
     "text": [
      "/usr/lib/python3.7/site-packages/pyLDAvis/_prepare.py:257: FutureWarning: Sorting because non-concatenation axis is not aligned. A future version\n",
      "of pandas will change to not sort by default.\n",
      "\n",
      "To accept the future behavior, pass 'sort=False'.\n",
      "\n",
      "To retain the current behavior and silence the warning, pass 'sort=True'.\n",
      "\n",
      "  return pd.concat([default_term_info] + list(topic_dfs))\n"
     ]
    },
    {
     "name": "stdout",
     "output_type": "stream",
     "text": [
      "22\n"
     ]
    },
    {
     "name": "stderr",
     "output_type": "stream",
     "text": [
      "/usr/lib/python3.7/site-packages/pyLDAvis/_prepare.py:257: FutureWarning: Sorting because non-concatenation axis is not aligned. A future version\n",
      "of pandas will change to not sort by default.\n",
      "\n",
      "To accept the future behavior, pass 'sort=False'.\n",
      "\n",
      "To retain the current behavior and silence the warning, pass 'sort=True'.\n",
      "\n",
      "  return pd.concat([default_term_info] + list(topic_dfs))\n"
     ]
    },
    {
     "name": "stdout",
     "output_type": "stream",
     "text": [
      "23\n"
     ]
    },
    {
     "name": "stderr",
     "output_type": "stream",
     "text": [
      "/usr/lib/python3.7/site-packages/pyLDAvis/_prepare.py:257: FutureWarning: Sorting because non-concatenation axis is not aligned. A future version\n",
      "of pandas will change to not sort by default.\n",
      "\n",
      "To accept the future behavior, pass 'sort=False'.\n",
      "\n",
      "To retain the current behavior and silence the warning, pass 'sort=True'.\n",
      "\n",
      "  return pd.concat([default_term_info] + list(topic_dfs))\n"
     ]
    },
    {
     "name": "stdout",
     "output_type": "stream",
     "text": [
      "24\n"
     ]
    },
    {
     "name": "stderr",
     "output_type": "stream",
     "text": [
      "/usr/lib/python3.7/site-packages/pyLDAvis/_prepare.py:257: FutureWarning: Sorting because non-concatenation axis is not aligned. A future version\n",
      "of pandas will change to not sort by default.\n",
      "\n",
      "To accept the future behavior, pass 'sort=False'.\n",
      "\n",
      "To retain the current behavior and silence the warning, pass 'sort=True'.\n",
      "\n",
      "  return pd.concat([default_term_info] + list(topic_dfs))\n"
     ]
    },
    {
     "name": "stdout",
     "output_type": "stream",
     "text": [
      "25\n"
     ]
    },
    {
     "name": "stderr",
     "output_type": "stream",
     "text": [
      "/usr/lib/python3.7/site-packages/pyLDAvis/_prepare.py:257: FutureWarning: Sorting because non-concatenation axis is not aligned. A future version\n",
      "of pandas will change to not sort by default.\n",
      "\n",
      "To accept the future behavior, pass 'sort=False'.\n",
      "\n",
      "To retain the current behavior and silence the warning, pass 'sort=True'.\n",
      "\n",
      "  return pd.concat([default_term_info] + list(topic_dfs))\n"
     ]
    },
    {
     "name": "stdout",
     "output_type": "stream",
     "text": [
      "26\n"
     ]
    },
    {
     "name": "stderr",
     "output_type": "stream",
     "text": [
      "/usr/lib/python3.7/site-packages/pyLDAvis/_prepare.py:257: FutureWarning: Sorting because non-concatenation axis is not aligned. A future version\n",
      "of pandas will change to not sort by default.\n",
      "\n",
      "To accept the future behavior, pass 'sort=False'.\n",
      "\n",
      "To retain the current behavior and silence the warning, pass 'sort=True'.\n",
      "\n",
      "  return pd.concat([default_term_info] + list(topic_dfs))\n"
     ]
    },
    {
     "name": "stdout",
     "output_type": "stream",
     "text": [
      "27\n"
     ]
    },
    {
     "name": "stderr",
     "output_type": "stream",
     "text": [
      "/usr/lib/python3.7/site-packages/pyLDAvis/_prepare.py:257: FutureWarning: Sorting because non-concatenation axis is not aligned. A future version\n",
      "of pandas will change to not sort by default.\n",
      "\n",
      "To accept the future behavior, pass 'sort=False'.\n",
      "\n",
      "To retain the current behavior and silence the warning, pass 'sort=True'.\n",
      "\n",
      "  return pd.concat([default_term_info] + list(topic_dfs))\n"
     ]
    },
    {
     "name": "stdout",
     "output_type": "stream",
     "text": [
      "28\n"
     ]
    },
    {
     "name": "stderr",
     "output_type": "stream",
     "text": [
      "/usr/lib/python3.7/site-packages/pyLDAvis/_prepare.py:257: FutureWarning: Sorting because non-concatenation axis is not aligned. A future version\n",
      "of pandas will change to not sort by default.\n",
      "\n",
      "To accept the future behavior, pass 'sort=False'.\n",
      "\n",
      "To retain the current behavior and silence the warning, pass 'sort=True'.\n",
      "\n",
      "  return pd.concat([default_term_info] + list(topic_dfs))\n"
     ]
    },
    {
     "name": "stdout",
     "output_type": "stream",
     "text": [
      "29\n"
     ]
    },
    {
     "name": "stderr",
     "output_type": "stream",
     "text": [
      "/usr/lib/python3.7/site-packages/pyLDAvis/_prepare.py:257: FutureWarning: Sorting because non-concatenation axis is not aligned. A future version\n",
      "of pandas will change to not sort by default.\n",
      "\n",
      "To accept the future behavior, pass 'sort=False'.\n",
      "\n",
      "To retain the current behavior and silence the warning, pass 'sort=True'.\n",
      "\n",
      "  return pd.concat([default_term_info] + list(topic_dfs))\n"
     ]
    }
   ],
   "source": [
    "# Here I am creating the models in that range\n",
    "for i in range(20,30):\n",
    "    print(i)\n",
    "    name = \"LDA_\" + str(i)\n",
    "    Lda = gensim.models.ldamodel.LdaModel\n",
    "    model = Lda(doc_term_matrix_train, num_topics=i, id2word = dictionary, passes=50)\n",
    "    model.save(os.path.join(folder_models, name))\n",
    "    vis = pyLDAvis.gensim.prepare(model, doc_term_matrix_train, dictionary)\n",
    "    with open(os.path.join(folder_vis, name), \"wb\") as f:\n",
    "        pickle.dump(vis, f)\n",
    "    pyLDAvis.save_html(vis, os.path.join(folder_vis, name + \".html\"))\n",
    "    models.append([i, model])"
   ]
  },
  {
   "cell_type": "code",
   "execution_count": 90,
   "metadata": {},
   "outputs": [
    {
     "data": {
      "text/plain": [
       "[[20, <gensim.models.ldamodel.LdaModel at 0x7f2c08de96a0>],\n",
       " [21, <gensim.models.ldamodel.LdaModel at 0x7f2c09bc06a0>],\n",
       " [22, <gensim.models.ldamodel.LdaModel at 0x7f2c09bc0588>],\n",
       " [23, <gensim.models.ldamodel.LdaModel at 0x7f2c0db82f60>],\n",
       " [24, <gensim.models.ldamodel.LdaModel at 0x7f2c0c6d1b70>],\n",
       " [25, <gensim.models.ldamodel.LdaModel at 0x7f2c090e17f0>],\n",
       " [26, <gensim.models.ldamodel.LdaModel at 0x7f2c0901e2e8>],\n",
       " [27, <gensim.models.ldamodel.LdaModel at 0x7f2c08c3d5f8>],\n",
       " [28, <gensim.models.ldamodel.LdaModel at 0x7f2c0d692ac8>],\n",
       " [29, <gensim.models.ldamodel.LdaModel at 0x7f2c0c6b2748>]]"
      ]
     },
     "execution_count": 90,
     "metadata": {},
     "output_type": "execute_result"
    }
   ],
   "source": [
    "models"
   ]
  },
  {
   "cell_type": "code",
   "execution_count": 91,
   "metadata": {},
   "outputs": [
    {
     "name": "stdout",
     "output_type": "stream",
     "text": [
      "20\n"
     ]
    },
    {
     "name": "stderr",
     "output_type": "stream",
     "text": [
      "/usr/lib/python3.7/site-packages/gensim/topic_coherence/direct_confirmation_measure.py:204: RuntimeWarning: divide by zero encountered in double_scalars\n",
      "  m_lr_i = np.log(numerator / denominator)\n",
      "/usr/lib/python3.7/site-packages/gensim/topic_coherence/indirect_confirmation_measure.py:323: RuntimeWarning: invalid value encountered in double_scalars\n",
      "  return cv1.T.dot(cv2)[0, 0] / (_magnitude(cv1) * _magnitude(cv2))\n"
     ]
    },
    {
     "name": "stdout",
     "output_type": "stream",
     "text": [
      "21\n",
      "22\n",
      "23\n",
      "24\n",
      "25\n",
      "26\n",
      "27\n",
      "28\n",
      "29\n"
     ]
    }
   ],
   "source": [
    "# here I am calculating values for each model\n",
    "all_topic_models_values = []\n",
    "for _, model_current in models:\n",
    "    print(model_current.num_topics)\n",
    "    p_test = model_current.log_perplexity(doc_term_matrix_test)\n",
    "    c1 = gensim.models.CoherenceModel(model=model_current, texts=all_texts_test, dictionary=dictionary, coherence='c_v')\n",
    "    c_v_test = c1.get_coherence()\n",
    "    c2 = gensim.models.CoherenceModel(model=model_current, texts=all_texts_test, dictionary=dictionary, coherence='u_mass')\n",
    "    u_mass_test = c2.get_coherence()\n",
    "    p_all = model_current.log_perplexity(doc_term_matrix_train)\n",
    "    c3 = gensim.models.CoherenceModel(model=model_current, texts=all_texts_train, dictionary=dictionary, coherence='c_v')\n",
    "    c_v_all = c3.get_coherence()\n",
    "    c4 = gensim.models.CoherenceModel(model=model_current, texts=all_texts_train, dictionary=dictionary, coherence='u_mass')\n",
    "    u_mass_all = c4.get_coherence()\n",
    "    all_topic_models_values.append(tuple([model_current.num_topics, p_test, p_all, c_v_test, c_v_all, u_mass_test, u_mass_all]))"
   ]
  },
  {
   "cell_type": "code",
   "execution_count": 93,
   "metadata": {},
   "outputs": [],
   "source": [
    "all_topic_models_pandas = pandas.DataFrame(all_topic_models_values, columns=[\"TopicNumber\", \"P_Test\", \"P_All\", \"CV_Test\", \"CV_All\", \"UMass_Test\", \"UMass_All\"])"
   ]
  },
  {
   "cell_type": "code",
   "execution_count": 94,
   "metadata": {},
   "outputs": [],
   "source": [
    "all_topic_models_pandas[\"P_Test_Cal\"] = numpy.exp(-1. * all_topic_models_pandas[\"P_Test\"])\n",
    "all_topic_models_pandas[\"P_All_Cal\"] = numpy.exp(-1. * all_topic_models_pandas[\"P_All\"])"
   ]
  },
  {
   "cell_type": "code",
   "execution_count": 95,
   "metadata": {},
   "outputs": [
    {
     "data": {
      "text/html": [
       "<div>\n",
       "<style scoped>\n",
       "    .dataframe tbody tr th:only-of-type {\n",
       "        vertical-align: middle;\n",
       "    }\n",
       "\n",
       "    .dataframe tbody tr th {\n",
       "        vertical-align: top;\n",
       "    }\n",
       "\n",
       "    .dataframe thead th {\n",
       "        text-align: right;\n",
       "    }\n",
       "</style>\n",
       "<table border=\"1\" class=\"dataframe\">\n",
       "  <thead>\n",
       "    <tr style=\"text-align: right;\">\n",
       "      <th></th>\n",
       "      <th>TopicNumber</th>\n",
       "      <th>P_Test</th>\n",
       "      <th>P_All</th>\n",
       "      <th>CV_Test</th>\n",
       "      <th>CV_All</th>\n",
       "      <th>UMass_Test</th>\n",
       "      <th>UMass_All</th>\n",
       "      <th>P_Test_Cal</th>\n",
       "      <th>P_All_Cal</th>\n",
       "    </tr>\n",
       "  </thead>\n",
       "  <tbody>\n",
       "    <tr>\n",
       "      <th>0</th>\n",
       "      <td>20</td>\n",
       "      <td>-13.103277</td>\n",
       "      <td>-7.081134</td>\n",
       "      <td>NaN</td>\n",
       "      <td>0.377998</td>\n",
       "      <td>-9.192253</td>\n",
       "      <td>-2.425891</td>\n",
       "      <td>4.905474e+05</td>\n",
       "      <td>1189.316341</td>\n",
       "    </tr>\n",
       "    <tr>\n",
       "      <th>1</th>\n",
       "      <td>21</td>\n",
       "      <td>-13.319741</td>\n",
       "      <td>-7.102651</td>\n",
       "      <td>NaN</td>\n",
       "      <td>0.394529</td>\n",
       "      <td>-9.080380</td>\n",
       "      <td>-2.683080</td>\n",
       "      <td>6.091020e+05</td>\n",
       "      <td>1215.183908</td>\n",
       "    </tr>\n",
       "    <tr>\n",
       "      <th>2</th>\n",
       "      <td>22</td>\n",
       "      <td>-13.575681</td>\n",
       "      <td>-7.102588</td>\n",
       "      <td>NaN</td>\n",
       "      <td>0.383218</td>\n",
       "      <td>-8.833829</td>\n",
       "      <td>-2.288523</td>\n",
       "      <td>7.867620e+05</td>\n",
       "      <td>1215.107684</td>\n",
       "    </tr>\n",
       "    <tr>\n",
       "      <th>3</th>\n",
       "      <td>23</td>\n",
       "      <td>-13.729323</td>\n",
       "      <td>-7.115369</td>\n",
       "      <td>NaN</td>\n",
       "      <td>0.356978</td>\n",
       "      <td>-9.626069</td>\n",
       "      <td>-2.676042</td>\n",
       "      <td>9.174217e+05</td>\n",
       "      <td>1230.737652</td>\n",
       "    </tr>\n",
       "    <tr>\n",
       "      <th>4</th>\n",
       "      <td>24</td>\n",
       "      <td>-13.797780</td>\n",
       "      <td>-7.106996</td>\n",
       "      <td>NaN</td>\n",
       "      <td>0.359151</td>\n",
       "      <td>-9.491929</td>\n",
       "      <td>-2.648669</td>\n",
       "      <td>9.824261e+05</td>\n",
       "      <td>1220.475577</td>\n",
       "    </tr>\n",
       "    <tr>\n",
       "      <th>5</th>\n",
       "      <td>25</td>\n",
       "      <td>-14.106437</td>\n",
       "      <td>-7.122581</td>\n",
       "      <td>NaN</td>\n",
       "      <td>0.358092</td>\n",
       "      <td>-9.454436</td>\n",
       "      <td>-2.582597</td>\n",
       "      <td>1.337667e+06</td>\n",
       "      <td>1239.646098</td>\n",
       "    </tr>\n",
       "    <tr>\n",
       "      <th>6</th>\n",
       "      <td>26</td>\n",
       "      <td>-14.317011</td>\n",
       "      <td>-7.108633</td>\n",
       "      <td>NaN</td>\n",
       "      <td>0.375624</td>\n",
       "      <td>-8.792355</td>\n",
       "      <td>-2.455367</td>\n",
       "      <td>1.651197e+06</td>\n",
       "      <td>1222.475591</td>\n",
       "    </tr>\n",
       "    <tr>\n",
       "      <th>7</th>\n",
       "      <td>27</td>\n",
       "      <td>-14.334627</td>\n",
       "      <td>-7.110944</td>\n",
       "      <td>NaN</td>\n",
       "      <td>0.356077</td>\n",
       "      <td>-9.944560</td>\n",
       "      <td>-2.755826</td>\n",
       "      <td>1.680543e+06</td>\n",
       "      <td>1225.303522</td>\n",
       "    </tr>\n",
       "    <tr>\n",
       "      <th>8</th>\n",
       "      <td>28</td>\n",
       "      <td>-14.411952</td>\n",
       "      <td>-7.104856</td>\n",
       "      <td>NaN</td>\n",
       "      <td>0.361303</td>\n",
       "      <td>-10.272915</td>\n",
       "      <td>-2.958493</td>\n",
       "      <td>1.815645e+06</td>\n",
       "      <td>1217.866495</td>\n",
       "    </tr>\n",
       "    <tr>\n",
       "      <th>9</th>\n",
       "      <td>29</td>\n",
       "      <td>-14.841615</td>\n",
       "      <td>-7.132164</td>\n",
       "      <td>NaN</td>\n",
       "      <td>0.359411</td>\n",
       "      <td>-9.513662</td>\n",
       "      <td>-2.505603</td>\n",
       "      <td>2.790175e+06</td>\n",
       "      <td>1251.582921</td>\n",
       "    </tr>\n",
       "  </tbody>\n",
       "</table>\n",
       "</div>"
      ],
      "text/plain": [
       "   TopicNumber     P_Test     P_All  CV_Test    CV_All  UMass_Test  UMass_All  \\\n",
       "0           20 -13.103277 -7.081134      NaN  0.377998   -9.192253  -2.425891   \n",
       "1           21 -13.319741 -7.102651      NaN  0.394529   -9.080380  -2.683080   \n",
       "2           22 -13.575681 -7.102588      NaN  0.383218   -8.833829  -2.288523   \n",
       "3           23 -13.729323 -7.115369      NaN  0.356978   -9.626069  -2.676042   \n",
       "4           24 -13.797780 -7.106996      NaN  0.359151   -9.491929  -2.648669   \n",
       "5           25 -14.106437 -7.122581      NaN  0.358092   -9.454436  -2.582597   \n",
       "6           26 -14.317011 -7.108633      NaN  0.375624   -8.792355  -2.455367   \n",
       "7           27 -14.334627 -7.110944      NaN  0.356077   -9.944560  -2.755826   \n",
       "8           28 -14.411952 -7.104856      NaN  0.361303  -10.272915  -2.958493   \n",
       "9           29 -14.841615 -7.132164      NaN  0.359411   -9.513662  -2.505603   \n",
       "\n",
       "     P_Test_Cal    P_All_Cal  \n",
       "0  4.905474e+05  1189.316341  \n",
       "1  6.091020e+05  1215.183908  \n",
       "2  7.867620e+05  1215.107684  \n",
       "3  9.174217e+05  1230.737652  \n",
       "4  9.824261e+05  1220.475577  \n",
       "5  1.337667e+06  1239.646098  \n",
       "6  1.651197e+06  1222.475591  \n",
       "7  1.680543e+06  1225.303522  \n",
       "8  1.815645e+06  1217.866495  \n",
       "9  2.790175e+06  1251.582921  "
      ]
     },
     "execution_count": 95,
     "metadata": {},
     "output_type": "execute_result"
    }
   ],
   "source": [
    "#Here are all the calculated scores for each model\n",
    "all_topic_models_pandas.head(10)"
   ]
  },
  {
   "cell_type": "code",
   "execution_count": 97,
   "metadata": {},
   "outputs": [
    {
     "data": {
      "text/plain": [
       "[<matplotlib.lines.Line2D at 0x7f2c09b98c50>]"
      ]
     },
     "execution_count": 97,
     "metadata": {},
     "output_type": "execute_result"
    },
    {
     "data": {
      "image/png": "[encoded data removed]",
      "text/plain": [
       "<Figure size 1440x360 with 1 Axes>"
      ]
     },
     "metadata": {
      "needs_background": "light"
     },
     "output_type": "display_data"
    }
   ],
   "source": [
    "# Here I am ploting perplexsity for test set only\n",
    "plt.figure(figsize=(20,5))\n",
    "plt.plot(all_topic_models_pandas[\"TopicNumber\"], all_topic_models_pandas[\"P_Test_Cal\"])"
   ]
  },
  {
   "cell_type": "code",
   "execution_count": 98,
   "metadata": {},
   "outputs": [
    {
     "data": {
      "text/plain": [
       "[<matplotlib.lines.Line2D at 0x7f2c093e1b70>]"
      ]
     },
     "execution_count": 98,
     "metadata": {},
     "output_type": "execute_result"
    },
    {
     "data": {
      "image/png": "[encoded data removed]",
      "text/plain": [
       "<Figure size 1440x360 with 1 Axes>"
      ]
     },
     "metadata": {
      "needs_background": "light"
     },
     "output_type": "display_data"
    }
   ],
   "source": [
    "# here I am ploting perplexsity for entire dataset\n",
    "plt.figure(figsize=(20,5))\n",
    "plt.plot(all_topic_models_pandas[\"TopicNumber\"], all_topic_models_pandas[\"P_All_Cal\"])"
   ]
  },
  {
   "cell_type": "code",
   "execution_count": 99,
   "metadata": {},
   "outputs": [],
   "source": [
    "all_topic_models_pandas[\"P_All_Diff\"] = all_topic_models_pandas[\"P_All_Cal\"] - ([0] + list(all_topic_models_pandas[\"P_All_Cal\"][:-1]))"
   ]
  },
  {
   "cell_type": "code",
   "execution_count": 100,
   "metadata": {},
   "outputs": [
    {
     "data": {
      "text/plain": [
       "[<matplotlib.lines.Line2D at 0x7f2bfa4e4710>]"
      ]
     },
     "execution_count": 100,
     "metadata": {},
     "output_type": "execute_result"
    },
    {
     "data": {
      "image/png": "[encoded data removed]",
      "text/plain": [
       "<Figure size 1440x360 with 1 Axes>"
      ]
     },
     "metadata": {
      "needs_background": "light"
     },
     "output_type": "display_data"
    }
   ],
   "source": [
    "# here I am ploting the difference in perplexsity for whole dataset\n",
    "plt.figure(figsize=(20,5))\n",
    "plt.plot(all_topic_models_pandas[\"TopicNumber\"][1:], all_topic_models_pandas[\"P_All_Diff\"][1:])"
   ]
  },
  {
   "cell_type": "code",
   "execution_count": 101,
   "metadata": {},
   "outputs": [
    {
     "data": {
      "text/html": [
       "<div>\n",
       "<style scoped>\n",
       "    .dataframe tbody tr th:only-of-type {\n",
       "        vertical-align: middle;\n",
       "    }\n",
       "\n",
       "    .dataframe tbody tr th {\n",
       "        vertical-align: top;\n",
       "    }\n",
       "\n",
       "    .dataframe thead th {\n",
       "        text-align: right;\n",
       "    }\n",
       "</style>\n",
       "<table border=\"1\" class=\"dataframe\">\n",
       "  <thead>\n",
       "    <tr style=\"text-align: right;\">\n",
       "      <th></th>\n",
       "      <th>TopicNumber</th>\n",
       "      <th>P_Test</th>\n",
       "      <th>P_All</th>\n",
       "      <th>CV_Test</th>\n",
       "      <th>CV_All</th>\n",
       "      <th>UMass_Test</th>\n",
       "      <th>UMass_All</th>\n",
       "      <th>P_Test_Cal</th>\n",
       "      <th>P_All_Cal</th>\n",
       "      <th>P_All_Diff</th>\n",
       "    </tr>\n",
       "  </thead>\n",
       "  <tbody>\n",
       "    <tr>\n",
       "      <th>0</th>\n",
       "      <td>20</td>\n",
       "      <td>-13.103277</td>\n",
       "      <td>-7.081134</td>\n",
       "      <td>NaN</td>\n",
       "      <td>0.377998</td>\n",
       "      <td>-9.192253</td>\n",
       "      <td>-2.425891</td>\n",
       "      <td>490547.350681</td>\n",
       "      <td>1189.316341</td>\n",
       "      <td>1189.316341</td>\n",
       "    </tr>\n",
       "    <tr>\n",
       "      <th>1</th>\n",
       "      <td>21</td>\n",
       "      <td>-13.319741</td>\n",
       "      <td>-7.102651</td>\n",
       "      <td>NaN</td>\n",
       "      <td>0.394529</td>\n",
       "      <td>-9.080380</td>\n",
       "      <td>-2.683080</td>\n",
       "      <td>609101.997949</td>\n",
       "      <td>1215.183908</td>\n",
       "      <td>25.867567</td>\n",
       "    </tr>\n",
       "  </tbody>\n",
       "</table>\n",
       "</div>"
      ],
      "text/plain": [
       "   TopicNumber     P_Test     P_All  CV_Test    CV_All  UMass_Test  UMass_All  \\\n",
       "0           20 -13.103277 -7.081134      NaN  0.377998   -9.192253  -2.425891   \n",
       "1           21 -13.319741 -7.102651      NaN  0.394529   -9.080380  -2.683080   \n",
       "\n",
       "      P_Test_Cal    P_All_Cal   P_All_Diff  \n",
       "0  490547.350681  1189.316341  1189.316341  \n",
       "1  609101.997949  1215.183908    25.867567  "
      ]
     },
     "execution_count": 101,
     "metadata": {},
     "output_type": "execute_result"
    }
   ],
   "source": [
    "all_topic_models_pandas.head(2)"
   ]
  },
  {
   "cell_type": "code",
   "execution_count": 102,
   "metadata": {},
   "outputs": [
    {
     "data": {
      "text/plain": [
       "[<matplotlib.lines.Line2D at 0x7f2c0986a668>]"
      ]
     },
     "execution_count": 102,
     "metadata": {},
     "output_type": "execute_result"
    },
    {
     "data": {
      "image/png": "[encoded data removed]",
      "text/plain": [
       "<Figure size 1440x360 with 1 Axes>"
      ]
     },
     "metadata": {
      "needs_background": "light"
     },
     "output_type": "display_data"
    }
   ],
   "source": [
    "# here I am ploting one of coherence measures\n",
    "plt.figure(figsize=(20,5))\n",
    "plt.plot(all_topic_models_pandas[\"TopicNumber\"], all_topic_models_pandas[\"CV_All\"])"
   ]
  },
  {
   "cell_type": "code",
   "execution_count": 104,
   "metadata": {},
   "outputs": [
    {
     "data": {
      "text/plain": [
       "[<matplotlib.lines.Line2D at 0x7f2c09a47518>]"
      ]
     },
     "execution_count": 104,
     "metadata": {},
     "output_type": "execute_result"
    },
    {
     "data": {
      "image/png": "[encoded data removed]",
      "text/plain": [
       "<Figure size 1440x360 with 1 Axes>"
      ]
     },
     "metadata": {
      "needs_background": "light"
     },
     "output_type": "display_data"
    }
   ],
   "source": [
    "# here I am ploting another coherence measure for test set\n",
    "plt.figure(figsize=(20,5))\n",
    "plt.plot(all_topic_models_pandas[\"TopicNumber\"], all_topic_models_pandas[\"UMass_Test\"])"
   ]
  },
  {
   "cell_type": "code",
   "execution_count": 106,
   "metadata": {},
   "outputs": [
    {
     "data": {
      "text/plain": [
       "[<matplotlib.lines.Line2D at 0x7f2c099d8710>]"
      ]
     },
     "execution_count": 106,
     "metadata": {},
     "output_type": "execute_result"
    },
    {
     "data": {
      "image/png": "[encoded data removed]",
      "text/plain": [
       "<Figure size 1440x360 with 1 Axes>"
      ]
     },
     "metadata": {
      "needs_background": "light"
     },
     "output_type": "display_data"
    }
   ],
   "source": [
    "# and here is another coherence measure for entire dataset\n",
    "plt.figure(figsize=(20,5))\n",
    "plt.plot(all_topic_models_pandas[\"TopicNumber\"], all_topic_models_pandas[\"UMass_All\"])"
   ]
  }
 ],
 "metadata": {
  "kernelspec": {
   "display_name": "Python 3",
   "language": "python",
   "name": "python3"
  },
  "language_info": {
   "codemirror_mode": {
    "name": "ipython",
    "version": 3
   },
   "file_extension": ".py",
   "mimetype": "text/x-python",
   "name": "python",
   "nbconvert_exporter": "python",
   "pygments_lexer": "ipython3",
   "version": "3.7.3"
  }
 },
 "nbformat": 4,
 "nbformat_minor": 2
}
