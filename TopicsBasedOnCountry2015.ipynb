{
 "cells": [
  {
   "cell_type": "markdown",
   "metadata": {},
   "source": [
    "# Topics Based on Country 2015"
   ]
  },
  {
   "cell_type": "markdown",
   "metadata": {},
   "source": [
    "I have also decided to see, if there are some topics more representitive for different universities invloved with the program. In order to do so, I have analized the abstracts of 2015 based on the university it came from. Down in the results of the popularity of each topic based on the country of the person participating. "
   ]
  },
  {
   "cell_type": "code",
   "execution_count": 1,
   "metadata": {},
   "outputs": [],
   "source": [
    "# importing the libaries\n",
    "from constants import all_topics_names \n",
    "import matplotlib.pyplot as plt\n",
    "import subprocess\n",
    "import collections\n",
    "import pandas\n",
    "import nltk\n",
    "import scipy\n",
    "import os"
   ]
  },
  {
   "cell_type": "code",
   "execution_count": 2,
   "metadata": {},
   "outputs": [],
   "source": [
    "# importing the topics of each abstract\n",
    "topic_data = pandas.read_csv(\"sata.csv\", sep=\"\\t\")"
   ]
  },
  {
   "cell_type": "code",
   "execution_count": 3,
   "metadata": {},
   "outputs": [],
   "source": [
    "# clean the pandas\n",
    "topic_data.columns = [\"Index\"] + [column_name for column_name in all_topics_names.values()] + [\"Filename\", \"Title\"]\n",
    "del topic_data[\"Index\"]"
   ]
  },
  {
   "cell_type": "code",
   "execution_count": 4,
   "metadata": {},
   "outputs": [],
   "source": [
    "# get abstract titles from the data\n",
    "all_abstract_titles = [(filename.split(\"_\")[1], filename.split(\"_\")[2].split(\".\")[0], title)for filename, title in zip(topic_data[\"Filename\"], topic_data[\"Title\"])]"
   ]
  },
  {
   "cell_type": "code",
   "execution_count": 5,
   "metadata": {},
   "outputs": [],
   "source": [
    "# doanload links for proceedings (link, starting page, ending page, year)\n",
    "links = [(\"https://www.unet.univie.ac.at/~a9825248/MEiCogSci_Conference_Proceedings_2015.pdf\", 28, 79, 2015),\n",
    "         (\"https://www.unet.univie.ac.at/~a9825248/MEiCogSci_Conference_Proceedings_2015.pdf\", 82, 142, 2015)]"
   ]
  },
  {
   "cell_type": "code",
   "execution_count": 6,
   "metadata": {},
   "outputs": [],
   "source": [
    "# countries involved\n",
    "countries = [\"Austria\", \"Slovenia\", \"Slovakia\", \"Croatia\", \"Hungary\", \"Germany\", \"Finland\", \"Romania\", \"Poland\"\n",
    "            \"Slovenija\", \"Poland\", \"Slovenija\"]"
   ]
  },
  {
   "cell_type": "code",
   "execution_count": 7,
   "metadata": {},
   "outputs": [],
   "source": [
    "# universities involved\n",
    "all_universities = [\"University of Vienna, Vienna, Austria\", \n",
    "                    \"University of Ljubljana, Ljubljana, Slovenia\", \n",
    "                    \"Comenius University, Bratislava, Slovakia\",\n",
    "                    \"University of Zagreb, Zagreb, Croatia\",\n",
    "                    \"Central European University, Budapest, Hungary\", \n",
    "                    \"Max Planck Institut for Human Development, Berlin, Germany\", \n",
    "                    \"University of Jyväskylä, Jyväskylä, Finland\", \n",
    "                    \"University of Bucharest, Bucharest, Romania\", \n",
    "                    \"Jagiellonian University, Kraków, Poland\",\n",
    "                    \"University of Applied Sciences bfi, Vienna, Austria\",\n",
    "                    \"Austria Medical University of Vienna, Vienna, Austria\", \n",
    "                    \"Wolf Science Center, Ernstbrunn, Austria\",\n",
    "                    \"University of Veterinary Medicine, Vienna, Austria\",\n",
    "                    \"Pontifical University of John Paul II, Kraków, Poland\",\n",
    "                    \"University Medical Centre Ljubljana, Ljubljana, Slovenia\"\n",
    "                   ]"
   ]
  },
  {
   "cell_type": "code",
   "execution_count": 8,
   "metadata": {},
   "outputs": [],
   "source": [
    "# change the names of universities\n",
    "change_names = dict([(\"Pedagoška University, Ljubljana, Slovenia\", \"University of Ljubljana, Ljubljana, Slovenia\"), \n",
    "                     (\"Comenius University. Bratislava, Slovakia\", \"Comenius University, Bratislava, Slovakia\"), \n",
    "                     (\"Comenius University in Bratislava, Bratislava, Slovakia\", \"Comenius University, Bratislava, Slovakia\"),\n",
    "                     (\"University of Ljubljana, Ljubljana, Slovenija\", \"University of Ljubljana, Ljubljana, Slovenia\"), \n",
    "                     (\"University in Ljubljana, Ljubljana, Slovenia\", \"University of Ljubljana, Ljubljana, Slovenia\"), \n",
    "                     (\"Max Planck Institute for Human Development, Berlin, Germany\", \"Max Planck Institut for Human Development, Berlin, Germany\")])"
   ]
  },
  {
   "cell_type": "code",
   "execution_count": 9,
   "metadata": {},
   "outputs": [],
   "source": [
    "# parse the proceedings to get university name and title out of it\n",
    "articles_with_university_names = []\n",
    "for link, start, end, year in links:\n",
    "    filename = link.split(\"/\")[-1]\n",
    "    if not os.path.isfile(filename):\n",
    "        subprocess.run([\"wget\", filename])\n",
    "    for i in range(start, end+1):\n",
    "        subprocess.run([\"pdftotext\", \"-f\", str(i), \"-l\", str(i), filename, \"current.txt\"])\n",
    "        with open(\"current.txt\") as f:\n",
    "            current_data = f.readlines()\n",
    "        last_index = 0\n",
    "        for j, line in enumerate(current_data):\n",
    "            for country in countries:\n",
    "                if country in line and last_index == 0 and \"MEi:CogSci Conference 2015, Ljubljana, Slovenia Posters\" not in line:\n",
    "                    last_index = j\n",
    "        university_name = \" \".join(current_data[:last_index+1][-2:]).replace(\"\\n\", \"\")\n",
    "        rest_of_data = \" \".join(current_data[:last_index+1][:-2])\n",
    "        word_tok = nltk.word_tokenize(rest_of_data)\n",
    "        if \",\" in word_tok:\n",
    "            if word_tok.index(\",\") > 3:\n",
    "                title = word_tok[:word_tok.index(\",\") - 2]\n",
    "            elif word_tok.index(\",\") <= 3 and \",\" in word_tok[3:]:\n",
    "                title = word_tok[:word_tok[3:].index(\",\") - 2]\n",
    "            else:\n",
    "                title = word_tok[:-2]\n",
    "        else:\n",
    "            title = word_tok[:-2]\n",
    "        articles_with_university_names.append([university_name, title, year])"
   ]
  },
  {
   "cell_type": "code",
   "execution_count": 10,
   "metadata": {},
   "outputs": [],
   "source": [
    "# compate the title in abstracts in procedings and find the most similar one\n",
    "id_with_university = []\n",
    "for abstract_year, abstract_id, abstract_title in all_abstract_titles:\n",
    "    abstract_title = nltk.word_tokenize(abstract_title)\n",
    "    similarity_data = []\n",
    "    for university, proc_title, proc_year in articles_with_university_names:\n",
    "        if int(proc_year) == int(abstract_year):\n",
    "            proc_title_num = []\n",
    "            abstract_title_num = []\n",
    "            all_words = list(set(proc_title + abstract_title))\n",
    "            for word in all_words:\n",
    "                if word in proc_title:\n",
    "                    proc_title_num.append(1)\n",
    "                else:\n",
    "                    proc_title_num.append(0)\n",
    "                if word in abstract_title:\n",
    "                    abstract_title_num.append(1)\n",
    "                else:\n",
    "                    abstract_title_num.append(0)\n",
    "            dist = scipy.spatial.distance.cosine(proc_title_num, abstract_title_num)\n",
    "            similarity_data.append([proc_year, abstract_id, abstract_title, proc_title, dist, university])\n",
    "    if similarity_data:\n",
    "        most_similar = pandas.DataFrame(similarity_data).sort_values(4).head(1)\n",
    "        most_similar = [list(row[1]) for row in most_similar.iterrows()][0]\n",
    "        id_with_university.append([most_similar[1], most_similar[5]])"
   ]
  },
  {
   "cell_type": "code",
   "execution_count": 11,
   "metadata": {},
   "outputs": [],
   "source": [
    "# make magic on dataframes and create the dataframe, that connects all the data\n",
    "id_with_country = [(i, uni.split(\",\")[-1].strip()) for i, uni in id_with_university if uni.split(\",\")[-1].strip()]\n",
    "id_with_country_pandas = pandas.DataFrame(id_with_country, columns=[\"ID\", \"Country\"])\n",
    "topic_data[\"ID\"] = [filename.split(\"_\")[-1].split(\".\")[0] for filename in topic_data[\"Filename\"]]\n",
    "combined_pandas = pandas.merge(topic_data, id_with_country_pandas, on=\"ID\", how=\"inner\")"
   ]
  },
  {
   "cell_type": "code",
   "execution_count": 12,
   "metadata": {},
   "outputs": [],
   "source": [
    "# correct misspelled countries\n",
    "correct_countries = {'Slovenija': 'Slovenia'}"
   ]
  },
  {
   "cell_type": "code",
   "execution_count": 13,
   "metadata": {},
   "outputs": [],
   "source": [
    "# create the data for each country\n",
    "countries_abstracts = collections.defaultdict(int)\n",
    "countries_with_topics = collections.defaultdict(dict)\n",
    "for row, data in combined_pandas.iterrows():\n",
    "    if data[\"Country\"] in correct_countries:\n",
    "        data[\"Country\"] = correct_countries[data[\"Country\"]]\n",
    "    countries_abstracts[data[\"Country\"]] += 1\n",
    "    for topic in data.index[:-4]:\n",
    "        if not topic in countries_with_topics[data[\"Country\"]]:\n",
    "            countries_with_topics[data[\"Country\"]][topic] = 0\n",
    "        countries_with_topics[data[\"Country\"]][topic] += data[topic]"
   ]
  },
  {
   "cell_type": "code",
   "execution_count": 14,
   "metadata": {},
   "outputs": [
    {
     "data": {
      "text/plain": [
       "defaultdict(int,\n",
       "            {'Slovakia': 24,\n",
       "             'Austria': 36,\n",
       "             'Slovenia': 39,\n",
       "             'Poland': 6,\n",
       "             'Croatia': 1,\n",
       "             'Romania': 1,\n",
       "             'Germany': 2,\n",
       "             'Hungary': 1})"
      ]
     },
     "execution_count": 14,
     "metadata": {},
     "output_type": "execute_result"
    }
   ],
   "source": [
    "# how many abstracts came from each country\n",
    "countries_abstracts"
   ]
  },
  {
   "cell_type": "code",
   "execution_count": 15,
   "metadata": {},
   "outputs": [],
   "source": [
    "# normalize the data\n",
    "countries_with_topics_corr = dict()\n",
    "for country, topics in countries_with_topics.items():\n",
    "    countries_with_topics_corr[country] = dict()\n",
    "    for topic, value in topics.items():\n",
    "        countries_with_topics_corr[country][topic] = value/countries_abstracts[country]"
   ]
  },
  {
   "cell_type": "code",
   "execution_count": 16,
   "metadata": {},
   "outputs": [],
   "source": [
    "# change the data to dataframe\n",
    "plot_data = pandas.DataFrame(countries_with_topics_corr)"
   ]
  },
  {
   "cell_type": "code",
   "execution_count": 17,
   "metadata": {},
   "outputs": [
    {
     "data": {
      "text/plain": [
       "<matplotlib.axes._subplots.AxesSubplot at 0x7f585fa27d68>"
      ]
     },
     "execution_count": 17,
     "metadata": {},
     "output_type": "execute_result"
    },
    {
     "data": {
      "image/png": "[encoded data removed]",
      "text/plain": [
       "<Figure size 432x288 with 1 Axes>"
      ]
     },
     "metadata": {
      "needs_background": "light"
     },
     "output_type": "display_data"
    }
   ],
   "source": [
    "# plot for Slovenia\n",
    "plot_data[\"Slovenia\"].sort_values(ascending=False).plot(kind=\"bar\")"
   ]
  },
  {
   "cell_type": "code",
   "execution_count": 18,
   "metadata": {},
   "outputs": [
    {
     "data": {
      "text/plain": [
       "<matplotlib.axes._subplots.AxesSubplot at 0x7f585f8fb278>"
      ]
     },
     "execution_count": 18,
     "metadata": {},
     "output_type": "execute_result"
    },
    {
     "data": {
      "image/png": "[encoded data removed]",
      "text/plain": [
       "<Figure size 432x288 with 1 Axes>"
      ]
     },
     "metadata": {
      "needs_background": "light"
     },
     "output_type": "display_data"
    }
   ],
   "source": [
    "# plot for Austria\n",
    "plot_data[\"Austria\"].sort_values(ascending=False).plot(kind=\"bar\")"
   ]
  },
  {
   "cell_type": "code",
   "execution_count": 19,
   "metadata": {},
   "outputs": [
    {
     "data": {
      "text/plain": [
       "<matplotlib.axes._subplots.AxesSubplot at 0x7f585f8379b0>"
      ]
     },
     "execution_count": 19,
     "metadata": {},
     "output_type": "execute_result"
    },
    {
     "data": {
      "image/png": "[encoded data removed]",
      "text/plain": [
       "<Figure size 432x288 with 1 Axes>"
      ]
     },
     "metadata": {
      "needs_background": "light"
     },
     "output_type": "display_data"
    }
   ],
   "source": [
    "# Plot for Slovakia\n",
    "plot_data[\"Slovakia\"].sort_values(ascending=False).plot(kind=\"bar\")"
   ]
  },
  {
   "cell_type": "code",
   "execution_count": null,
   "metadata": {},
   "outputs": [],
   "source": []
  }
 ],
 "metadata": {
  "kernelspec": {
   "display_name": "Python 3",
   "language": "python",
   "name": "python3"
  },
  "language_info": {
   "codemirror_mode": {
    "name": "ipython",
    "version": 3
   },
   "file_extension": ".py",
   "mimetype": "text/x-python",
   "name": "python",
   "nbconvert_exporter": "python",
   "pygments_lexer": "ipython3",
   "version": "3.7.3"
  }
 },
 "nbformat": 4,
 "nbformat_minor": 2
}
