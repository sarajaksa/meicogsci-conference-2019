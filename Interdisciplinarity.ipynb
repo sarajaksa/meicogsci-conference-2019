{
 "cells": [
  {
   "cell_type": "markdown",
   "metadata": {},
   "source": [
    "# Interdisciplinarity"
   ]
  },
  {
   "cell_type": "code",
   "execution_count": 1,
   "metadata": {},
   "outputs": [],
   "source": [
    "from constants import all_topics_names, folder_meicogsci, folder_meicogsci_2019, folder_models\n",
    "from helping_functions import get_topics_for_abstract\n",
    "import matplotlib.pyplot as plt\n",
    "import collections\n",
    "import statistics\n",
    "import networkx\n",
    "import gensim\n",
    "import pandas\n",
    "import nltk\n",
    "import os"
   ]
  },
  {
   "cell_type": "code",
   "execution_count": 2,
   "metadata": {},
   "outputs": [],
   "source": [
    "# initializing lem for lemmatization with preprocessing\n",
    "lem = nltk.stem.WordNetLemmatizer()"
   ]
  },
  {
   "cell_type": "code",
   "execution_count": 3,
   "metadata": {},
   "outputs": [],
   "source": [
    "# getting the list of all files with abstracts\n",
    "all_files = os.listdir(folder_meicogsci)\n",
    "all_files_2019 = os.listdir(folder_meicogsci_2019)"
   ]
  },
  {
   "cell_type": "code",
   "execution_count": 4,
   "metadata": {},
   "outputs": [],
   "source": [
    "# importing the model\n",
    "model_21 = gensim.models.LdaModel.load(os.path.join(folder_models, \"LDA_21\"))\n",
    "model_21.minimum_probability = 0.0"
   ]
  },
  {
   "cell_type": "code",
   "execution_count": 5,
   "metadata": {},
   "outputs": [],
   "source": [
    "# calculate the topics for each abstract\n",
    "all_files_by_topic = []\n",
    "for filename in all_files:\n",
    "    all_files_by_topic.append(get_topics_for_abstract(folder_meicogsci, filename, model_21, lem))\n",
    "for filename in all_files_2019:\n",
    "    all_files_by_topic.append(get_topics_for_abstract(folder_meicogsci_2019, filename, model_21, lem))"
   ]
  },
  {
   "cell_type": "code",
   "execution_count": 6,
   "metadata": {},
   "outputs": [],
   "source": [
    "threshold = 0.1"
   ]
  },
  {
   "cell_type": "code",
   "execution_count": 7,
   "metadata": {},
   "outputs": [],
   "source": [
    "# here I am counting the number of abstracts with each topic\n",
    "topic_article_number = collections.defaultdict(int)\n",
    "for abstract in all_files_by_topic:\n",
    "    for i1, topic1 in enumerate(abstract[:-2]):\n",
    "        if topic1 > threshold:\n",
    "            topic_article_number[i1] += 1"
   ]
  },
  {
   "cell_type": "code",
   "execution_count": 8,
   "metadata": {},
   "outputs": [],
   "source": [
    "# here I am seeing, which topics appear together\n",
    "connections = collections.defaultdict(dict)\n",
    "for abstract in all_files_by_topic:\n",
    "    for i1, topic1 in enumerate(abstract[:-2]):\n",
    "        for i2, topic2 in enumerate(abstract[:-2]):\n",
    "            if i1 > i2:\n",
    "                if topic1 > threshold and topic2 > threshold:\n",
    "                    try:\n",
    "                        connections[i1][i2] += 1\n",
    "                    except KeyError:\n",
    "                        connections[i1][i2] = 1"
   ]
  },
  {
   "cell_type": "code",
   "execution_count": 9,
   "metadata": {},
   "outputs": [],
   "source": [
    "# here I am just changing things to frequencies for easier calculation later\n",
    "topic_article_freq = {topic: count/len(all_files) for topic, count in topic_article_number.items()}"
   ]
  },
  {
   "cell_type": "code",
   "execution_count": 10,
   "metadata": {},
   "outputs": [],
   "source": [
    "# here I am just changing things to frequencies for easier calculation later\n",
    "connections_freq = collections.defaultdict(dict)\n",
    "for topic1 in connections:\n",
    "    for topic2 in connections[topic1]:\n",
    "        connections_freq[topic1][topic2] = connections[topic1][topic2]/len(all_files)"
   ]
  },
  {
   "cell_type": "code",
   "execution_count": 11,
   "metadata": {},
   "outputs": [],
   "source": [
    "# here I am calculating if two topics appear more together than expected or less\n",
    "all_connections = []\n",
    "for topic1 in connections_freq:\n",
    "    for topic2 in connections_freq[topic1]:\n",
    "        real = connections_freq[topic1][topic2]\n",
    "        expected = topic_article_freq[topic1] * topic_article_freq[topic2]\n",
    "        all_connections.append([all_topics_names[topic1], all_topics_names[topic2], real, expected, real-expected])"
   ]
  },
  {
   "cell_type": "markdown",
   "metadata": {},
   "source": [
    "Here is the list of topics that appear togehter less frequently than we would expect based on their frequency. "
   ]
  },
  {
   "cell_type": "code",
   "execution_count": 12,
   "metadata": {},
   "outputs": [
    {
     "data": {
      "text/html": [
       "<div>\n",
       "<style scoped>\n",
       "    .dataframe tbody tr th:only-of-type {\n",
       "        vertical-align: middle;\n",
       "    }\n",
       "\n",
       "    .dataframe tbody tr th {\n",
       "        vertical-align: top;\n",
       "    }\n",
       "\n",
       "    .dataframe thead th {\n",
       "        text-align: right;\n",
       "    }\n",
       "</style>\n",
       "<table border=\"1\" class=\"dataframe\">\n",
       "  <thead>\n",
       "    <tr style=\"text-align: right;\">\n",
       "      <th></th>\n",
       "      <th>Topic1</th>\n",
       "      <th>Topic2</th>\n",
       "      <th>Real</th>\n",
       "      <th>Expected</th>\n",
       "      <th>Score</th>\n",
       "    </tr>\n",
       "  </thead>\n",
       "  <tbody>\n",
       "    <tr>\n",
       "      <th>79</th>\n",
       "      <td>constructivism</td>\n",
       "      <td>neuroscience</td>\n",
       "      <td>0.037634</td>\n",
       "      <td>0.083754</td>\n",
       "      <td>-0.046120</td>\n",
       "    </tr>\n",
       "    <tr>\n",
       "      <th>145</th>\n",
       "      <td>neuroscience</td>\n",
       "      <td>society</td>\n",
       "      <td>0.021505</td>\n",
       "      <td>0.064998</td>\n",
       "      <td>-0.043493</td>\n",
       "    </tr>\n",
       "    <tr>\n",
       "      <th>148</th>\n",
       "      <td>neuroscience</td>\n",
       "      <td>decision making</td>\n",
       "      <td>0.020161</td>\n",
       "      <td>0.058854</td>\n",
       "      <td>-0.038693</td>\n",
       "    </tr>\n",
       "    <tr>\n",
       "      <th>113</th>\n",
       "      <td>perception</td>\n",
       "      <td>constructivism</td>\n",
       "      <td>0.032258</td>\n",
       "      <td>0.064570</td>\n",
       "      <td>-0.032312</td>\n",
       "    </tr>\n",
       "    <tr>\n",
       "      <th>103</th>\n",
       "      <td>language</td>\n",
       "      <td>neuroscience</td>\n",
       "      <td>0.017473</td>\n",
       "      <td>0.045596</td>\n",
       "      <td>-0.028123</td>\n",
       "    </tr>\n",
       "  </tbody>\n",
       "</table>\n",
       "</div>"
      ],
      "text/plain": [
       "             Topic1           Topic2      Real  Expected     Score\n",
       "79   constructivism     neuroscience  0.037634  0.083754 -0.046120\n",
       "145    neuroscience          society  0.021505  0.064998 -0.043493\n",
       "148    neuroscience  decision making  0.020161  0.058854 -0.038693\n",
       "113      perception   constructivism  0.032258  0.064570 -0.032312\n",
       "103        language     neuroscience  0.017473  0.045596 -0.028123"
      ]
     },
     "execution_count": 12,
     "metadata": {},
     "output_type": "execute_result"
    }
   ],
   "source": [
    "pandas.DataFrame(all_connections, columns=[\"Topic1\", \"Topic2\", \"Real\", \"Expected\", \"Score\"]).sort_values(by=\"Score\").head(5)"
   ]
  },
  {
   "cell_type": "markdown",
   "metadata": {},
   "source": [
    "And here is the list of topics that appear together more frequently than we would expect based on their frequency. "
   ]
  },
  {
   "cell_type": "code",
   "execution_count": 13,
   "metadata": {},
   "outputs": [
    {
     "data": {
      "text/html": [
       "<div>\n",
       "<style scoped>\n",
       "    .dataframe tbody tr th:only-of-type {\n",
       "        vertical-align: middle;\n",
       "    }\n",
       "\n",
       "    .dataframe tbody tr th {\n",
       "        vertical-align: top;\n",
       "    }\n",
       "\n",
       "    .dataframe thead th {\n",
       "        text-align: right;\n",
       "    }\n",
       "</style>\n",
       "<table border=\"1\" class=\"dataframe\">\n",
       "  <thead>\n",
       "    <tr style=\"text-align: right;\">\n",
       "      <th></th>\n",
       "      <th>Topic1</th>\n",
       "      <th>Topic2</th>\n",
       "      <th>Real</th>\n",
       "      <th>Expected</th>\n",
       "      <th>Score</th>\n",
       "    </tr>\n",
       "  </thead>\n",
       "  <tbody>\n",
       "    <tr>\n",
       "      <th>57</th>\n",
       "      <td>TMS</td>\n",
       "      <td>neuroscience</td>\n",
       "      <td>0.060484</td>\n",
       "      <td>0.029427</td>\n",
       "      <td>0.031057</td>\n",
       "    </tr>\n",
       "    <tr>\n",
       "      <th>36</th>\n",
       "      <td>tasks</td>\n",
       "      <td>decision making</td>\n",
       "      <td>0.047043</td>\n",
       "      <td>0.027290</td>\n",
       "      <td>0.019753</td>\n",
       "    </tr>\n",
       "    <tr>\n",
       "      <th>72</th>\n",
       "      <td>constructivism</td>\n",
       "      <td>society</td>\n",
       "      <td>0.112903</td>\n",
       "      <td>0.094048</td>\n",
       "      <td>0.018855</td>\n",
       "    </tr>\n",
       "    <tr>\n",
       "      <th>164</th>\n",
       "      <td>reinforcment learning</td>\n",
       "      <td>neural networks</td>\n",
       "      <td>0.033602</td>\n",
       "      <td>0.018021</td>\n",
       "      <td>0.015582</td>\n",
       "    </tr>\n",
       "    <tr>\n",
       "      <th>161</th>\n",
       "      <td>reinforcment learning</td>\n",
       "      <td>modeling</td>\n",
       "      <td>0.040323</td>\n",
       "      <td>0.025057</td>\n",
       "      <td>0.015265</td>\n",
       "    </tr>\n",
       "  </tbody>\n",
       "</table>\n",
       "</div>"
      ],
      "text/plain": [
       "                    Topic1           Topic2      Real  Expected     Score\n",
       "57                     TMS     neuroscience  0.060484  0.029427  0.031057\n",
       "36                   tasks  decision making  0.047043  0.027290  0.019753\n",
       "72          constructivism          society  0.112903  0.094048  0.018855\n",
       "164  reinforcment learning  neural networks  0.033602  0.018021  0.015582\n",
       "161  reinforcment learning         modeling  0.040323  0.025057  0.015265"
      ]
     },
     "execution_count": 13,
     "metadata": {},
     "output_type": "execute_result"
    }
   ],
   "source": [
    "pandas.DataFrame(all_connections, columns=[\"Topic1\", \"Topic2\", \"Real\", \"Expected\", \"Score\"]).sort_values(by=\"Score\", ascending=False).head(5)"
   ]
  },
  {
   "cell_type": "markdown",
   "metadata": {},
   "source": [
    "Here the calculations can be seen for each topic with one specific topic. Here I choose constructivism and decision making. "
   ]
  },
  {
   "cell_type": "code",
   "execution_count": 14,
   "metadata": {},
   "outputs": [
    {
     "data": {
      "text/html": [
       "<div>\n",
       "<style scoped>\n",
       "    .dataframe tbody tr th:only-of-type {\n",
       "        vertical-align: middle;\n",
       "    }\n",
       "\n",
       "    .dataframe tbody tr th {\n",
       "        vertical-align: top;\n",
       "    }\n",
       "\n",
       "    .dataframe thead th {\n",
       "        text-align: right;\n",
       "    }\n",
       "</style>\n",
       "<table border=\"1\" class=\"dataframe\">\n",
       "  <thead>\n",
       "    <tr style=\"text-align: right;\">\n",
       "      <th></th>\n",
       "      <th>Topic1</th>\n",
       "      <th>Topic2</th>\n",
       "      <th>Real</th>\n",
       "      <th>Expected</th>\n",
       "      <th>Score</th>\n",
       "    </tr>\n",
       "  </thead>\n",
       "  <tbody>\n",
       "    <tr>\n",
       "      <th>3</th>\n",
       "      <td>tasks</td>\n",
       "      <td>decision making</td>\n",
       "      <td>0.047043</td>\n",
       "      <td>0.027290</td>\n",
       "      <td>0.019753</td>\n",
       "    </tr>\n",
       "    <tr>\n",
       "      <th>5</th>\n",
       "      <td>decision making</td>\n",
       "      <td>society</td>\n",
       "      <td>0.072581</td>\n",
       "      <td>0.066088</td>\n",
       "      <td>0.006493</td>\n",
       "    </tr>\n",
       "    <tr>\n",
       "      <th>2</th>\n",
       "      <td>learning</td>\n",
       "      <td>decision making</td>\n",
       "      <td>0.068548</td>\n",
       "      <td>0.065430</td>\n",
       "      <td>0.003118</td>\n",
       "    </tr>\n",
       "    <tr>\n",
       "      <th>18</th>\n",
       "      <td>system</td>\n",
       "      <td>decision making</td>\n",
       "      <td>0.017473</td>\n",
       "      <td>0.020057</td>\n",
       "      <td>-0.002583</td>\n",
       "    </tr>\n",
       "    <tr>\n",
       "      <th>0</th>\n",
       "      <td>non-typical</td>\n",
       "      <td>decision making</td>\n",
       "      <td>0.030914</td>\n",
       "      <td>0.033537</td>\n",
       "      <td>-0.002623</td>\n",
       "    </tr>\n",
       "    <tr>\n",
       "      <th>10</th>\n",
       "      <td>constructivism</td>\n",
       "      <td>decision making</td>\n",
       "      <td>0.081989</td>\n",
       "      <td>0.085158</td>\n",
       "      <td>-0.003169</td>\n",
       "    </tr>\n",
       "    <tr>\n",
       "      <th>6</th>\n",
       "      <td>decision making</td>\n",
       "      <td>categorization</td>\n",
       "      <td>0.010753</td>\n",
       "      <td>0.015453</td>\n",
       "      <td>-0.004701</td>\n",
       "    </tr>\n",
       "    <tr>\n",
       "      <th>17</th>\n",
       "      <td>reinforcment learning</td>\n",
       "      <td>decision making</td>\n",
       "      <td>0.025538</td>\n",
       "      <td>0.031236</td>\n",
       "      <td>-0.005698</td>\n",
       "    </tr>\n",
       "    <tr>\n",
       "      <th>19</th>\n",
       "      <td>health</td>\n",
       "      <td>decision making</td>\n",
       "      <td>0.006720</td>\n",
       "      <td>0.013481</td>\n",
       "      <td>-0.006760</td>\n",
       "    </tr>\n",
       "    <tr>\n",
       "      <th>7</th>\n",
       "      <td>decision making</td>\n",
       "      <td>modeling</td>\n",
       "      <td>0.038978</td>\n",
       "      <td>0.048004</td>\n",
       "      <td>-0.009026</td>\n",
       "    </tr>\n",
       "    <tr>\n",
       "      <th>1</th>\n",
       "      <td>attention</td>\n",
       "      <td>decision making</td>\n",
       "      <td>0.014785</td>\n",
       "      <td>0.024331</td>\n",
       "      <td>-0.009546</td>\n",
       "    </tr>\n",
       "    <tr>\n",
       "      <th>11</th>\n",
       "      <td>reasoning</td>\n",
       "      <td>decision making</td>\n",
       "      <td>0.018817</td>\n",
       "      <td>0.028605</td>\n",
       "      <td>-0.009788</td>\n",
       "    </tr>\n",
       "    <tr>\n",
       "      <th>8</th>\n",
       "      <td>decision making</td>\n",
       "      <td>movement</td>\n",
       "      <td>0.022849</td>\n",
       "      <td>0.033866</td>\n",
       "      <td>-0.011016</td>\n",
       "    </tr>\n",
       "    <tr>\n",
       "      <th>16</th>\n",
       "      <td>verbalization</td>\n",
       "      <td>decision making</td>\n",
       "      <td>0.005376</td>\n",
       "      <td>0.017426</td>\n",
       "      <td>-0.012050</td>\n",
       "    </tr>\n",
       "    <tr>\n",
       "      <th>4</th>\n",
       "      <td>TMS</td>\n",
       "      <td>decision making</td>\n",
       "      <td>0.014785</td>\n",
       "      <td>0.029920</td>\n",
       "      <td>-0.015135</td>\n",
       "    </tr>\n",
       "    <tr>\n",
       "      <th>9</th>\n",
       "      <td>decision making</td>\n",
       "      <td>pitch</td>\n",
       "      <td>0.005376</td>\n",
       "      <td>0.021043</td>\n",
       "      <td>-0.015667</td>\n",
       "    </tr>\n",
       "    <tr>\n",
       "      <th>13</th>\n",
       "      <td>perception</td>\n",
       "      <td>decision making</td>\n",
       "      <td>0.028226</td>\n",
       "      <td>0.045374</td>\n",
       "      <td>-0.017148</td>\n",
       "    </tr>\n",
       "    <tr>\n",
       "      <th>12</th>\n",
       "      <td>language</td>\n",
       "      <td>decision making</td>\n",
       "      <td>0.026882</td>\n",
       "      <td>0.046360</td>\n",
       "      <td>-0.019478</td>\n",
       "    </tr>\n",
       "    <tr>\n",
       "      <th>14</th>\n",
       "      <td>neural networks</td>\n",
       "      <td>decision making</td>\n",
       "      <td>0.008065</td>\n",
       "      <td>0.034523</td>\n",
       "      <td>-0.026459</td>\n",
       "    </tr>\n",
       "    <tr>\n",
       "      <th>15</th>\n",
       "      <td>neuroscience</td>\n",
       "      <td>decision making</td>\n",
       "      <td>0.020161</td>\n",
       "      <td>0.058854</td>\n",
       "      <td>-0.038693</td>\n",
       "    </tr>\n",
       "  </tbody>\n",
       "</table>\n",
       "</div>"
      ],
      "text/plain": [
       "                   Topic1           Topic2      Real  Expected     Score\n",
       "3                   tasks  decision making  0.047043  0.027290  0.019753\n",
       "5         decision making          society  0.072581  0.066088  0.006493\n",
       "2                learning  decision making  0.068548  0.065430  0.003118\n",
       "18                 system  decision making  0.017473  0.020057 -0.002583\n",
       "0             non-typical  decision making  0.030914  0.033537 -0.002623\n",
       "10         constructivism  decision making  0.081989  0.085158 -0.003169\n",
       "6         decision making   categorization  0.010753  0.015453 -0.004701\n",
       "17  reinforcment learning  decision making  0.025538  0.031236 -0.005698\n",
       "19                 health  decision making  0.006720  0.013481 -0.006760\n",
       "7         decision making         modeling  0.038978  0.048004 -0.009026\n",
       "1               attention  decision making  0.014785  0.024331 -0.009546\n",
       "11              reasoning  decision making  0.018817  0.028605 -0.009788\n",
       "8         decision making         movement  0.022849  0.033866 -0.011016\n",
       "16          verbalization  decision making  0.005376  0.017426 -0.012050\n",
       "4                     TMS  decision making  0.014785  0.029920 -0.015135\n",
       "9         decision making            pitch  0.005376  0.021043 -0.015667\n",
       "13             perception  decision making  0.028226  0.045374 -0.017148\n",
       "12               language  decision making  0.026882  0.046360 -0.019478\n",
       "14        neural networks  decision making  0.008065  0.034523 -0.026459\n",
       "15           neuroscience  decision making  0.020161  0.058854 -0.038693"
      ]
     },
     "execution_count": 14,
     "metadata": {},
     "output_type": "execute_result"
    }
   ],
   "source": [
    "pandas.DataFrame([[t1, t2, r, e, s] for t1, t2, r, e, s in all_connections if t1 == \"decision making\" or t2 == \"decision making\"], columns=[\"Topic1\", \"Topic2\", \"Real\", \"Expected\", \"Score\"]).sort_values(by=\"Score\", ascending=False)"
   ]
  },
  {
   "cell_type": "code",
   "execution_count": 15,
   "metadata": {},
   "outputs": [
    {
     "data": {
      "text/html": [
       "<div>\n",
       "<style scoped>\n",
       "    .dataframe tbody tr th:only-of-type {\n",
       "        vertical-align: middle;\n",
       "    }\n",
       "\n",
       "    .dataframe tbody tr th {\n",
       "        vertical-align: top;\n",
       "    }\n",
       "\n",
       "    .dataframe thead th {\n",
       "        text-align: right;\n",
       "    }\n",
       "</style>\n",
       "<table border=\"1\" class=\"dataframe\">\n",
       "  <thead>\n",
       "    <tr style=\"text-align: right;\">\n",
       "      <th></th>\n",
       "      <th>Topic1</th>\n",
       "      <th>Topic2</th>\n",
       "      <th>Real</th>\n",
       "      <th>Expected</th>\n",
       "      <th>Score</th>\n",
       "    </tr>\n",
       "  </thead>\n",
       "  <tbody>\n",
       "    <tr>\n",
       "      <th>4</th>\n",
       "      <td>constructivism</td>\n",
       "      <td>society</td>\n",
       "      <td>0.112903</td>\n",
       "      <td>0.094048</td>\n",
       "      <td>0.018855</td>\n",
       "    </tr>\n",
       "    <tr>\n",
       "      <th>9</th>\n",
       "      <td>constructivism</td>\n",
       "      <td>categorization</td>\n",
       "      <td>0.022849</td>\n",
       "      <td>0.021991</td>\n",
       "      <td>0.000858</td>\n",
       "    </tr>\n",
       "    <tr>\n",
       "      <th>12</th>\n",
       "      <td>reasoning</td>\n",
       "      <td>constructivism</td>\n",
       "      <td>0.040323</td>\n",
       "      <td>0.040707</td>\n",
       "      <td>-0.000385</td>\n",
       "    </tr>\n",
       "    <tr>\n",
       "      <th>16</th>\n",
       "      <td>verbalization</td>\n",
       "      <td>constructivism</td>\n",
       "      <td>0.024194</td>\n",
       "      <td>0.024799</td>\n",
       "      <td>-0.000605</td>\n",
       "    </tr>\n",
       "    <tr>\n",
       "      <th>10</th>\n",
       "      <td>constructivism</td>\n",
       "      <td>modeling</td>\n",
       "      <td>0.065860</td>\n",
       "      <td>0.068314</td>\n",
       "      <td>-0.002453</td>\n",
       "    </tr>\n",
       "    <tr>\n",
       "      <th>19</th>\n",
       "      <td>health</td>\n",
       "      <td>constructivism</td>\n",
       "      <td>0.016129</td>\n",
       "      <td>0.019184</td>\n",
       "      <td>-0.003055</td>\n",
       "    </tr>\n",
       "    <tr>\n",
       "      <th>5</th>\n",
       "      <td>constructivism</td>\n",
       "      <td>decision making</td>\n",
       "      <td>0.081989</td>\n",
       "      <td>0.085158</td>\n",
       "      <td>-0.003169</td>\n",
       "    </tr>\n",
       "    <tr>\n",
       "      <th>8</th>\n",
       "      <td>constructivism</td>\n",
       "      <td>movement</td>\n",
       "      <td>0.044355</td>\n",
       "      <td>0.048194</td>\n",
       "      <td>-0.003839</td>\n",
       "    </tr>\n",
       "    <tr>\n",
       "      <th>18</th>\n",
       "      <td>system</td>\n",
       "      <td>constructivism</td>\n",
       "      <td>0.021505</td>\n",
       "      <td>0.028542</td>\n",
       "      <td>-0.007037</td>\n",
       "    </tr>\n",
       "    <tr>\n",
       "      <th>0</th>\n",
       "      <td>attention</td>\n",
       "      <td>constructivism</td>\n",
       "      <td>0.026882</td>\n",
       "      <td>0.034625</td>\n",
       "      <td>-0.007743</td>\n",
       "    </tr>\n",
       "    <tr>\n",
       "      <th>6</th>\n",
       "      <td>constructivism</td>\n",
       "      <td>non-typical</td>\n",
       "      <td>0.038978</td>\n",
       "      <td>0.047726</td>\n",
       "      <td>-0.008747</td>\n",
       "    </tr>\n",
       "    <tr>\n",
       "      <th>7</th>\n",
       "      <td>constructivism</td>\n",
       "      <td>pitch</td>\n",
       "      <td>0.017473</td>\n",
       "      <td>0.029946</td>\n",
       "      <td>-0.012473</td>\n",
       "    </tr>\n",
       "    <tr>\n",
       "      <th>2</th>\n",
       "      <td>tasks</td>\n",
       "      <td>constructivism</td>\n",
       "      <td>0.024194</td>\n",
       "      <td>0.038836</td>\n",
       "      <td>-0.014642</td>\n",
       "    </tr>\n",
       "    <tr>\n",
       "      <th>13</th>\n",
       "      <td>language</td>\n",
       "      <td>constructivism</td>\n",
       "      <td>0.049731</td>\n",
       "      <td>0.065974</td>\n",
       "      <td>-0.016243</td>\n",
       "    </tr>\n",
       "    <tr>\n",
       "      <th>1</th>\n",
       "      <td>learning</td>\n",
       "      <td>constructivism</td>\n",
       "      <td>0.073925</td>\n",
       "      <td>0.093112</td>\n",
       "      <td>-0.019188</td>\n",
       "    </tr>\n",
       "    <tr>\n",
       "      <th>15</th>\n",
       "      <td>neural networks</td>\n",
       "      <td>constructivism</td>\n",
       "      <td>0.028226</td>\n",
       "      <td>0.049130</td>\n",
       "      <td>-0.020904</td>\n",
       "    </tr>\n",
       "    <tr>\n",
       "      <th>3</th>\n",
       "      <td>TMS</td>\n",
       "      <td>constructivism</td>\n",
       "      <td>0.016129</td>\n",
       "      <td>0.042579</td>\n",
       "      <td>-0.026450</td>\n",
       "    </tr>\n",
       "    <tr>\n",
       "      <th>17</th>\n",
       "      <td>reinforcment learning</td>\n",
       "      <td>constructivism</td>\n",
       "      <td>0.017473</td>\n",
       "      <td>0.044451</td>\n",
       "      <td>-0.026977</td>\n",
       "    </tr>\n",
       "    <tr>\n",
       "      <th>14</th>\n",
       "      <td>perception</td>\n",
       "      <td>constructivism</td>\n",
       "      <td>0.032258</td>\n",
       "      <td>0.064570</td>\n",
       "      <td>-0.032312</td>\n",
       "    </tr>\n",
       "    <tr>\n",
       "      <th>11</th>\n",
       "      <td>constructivism</td>\n",
       "      <td>neuroscience</td>\n",
       "      <td>0.037634</td>\n",
       "      <td>0.083754</td>\n",
       "      <td>-0.046120</td>\n",
       "    </tr>\n",
       "  </tbody>\n",
       "</table>\n",
       "</div>"
      ],
      "text/plain": [
       "                   Topic1           Topic2      Real  Expected     Score\n",
       "4          constructivism          society  0.112903  0.094048  0.018855\n",
       "9          constructivism   categorization  0.022849  0.021991  0.000858\n",
       "12              reasoning   constructivism  0.040323  0.040707 -0.000385\n",
       "16          verbalization   constructivism  0.024194  0.024799 -0.000605\n",
       "10         constructivism         modeling  0.065860  0.068314 -0.002453\n",
       "19                 health   constructivism  0.016129  0.019184 -0.003055\n",
       "5          constructivism  decision making  0.081989  0.085158 -0.003169\n",
       "8          constructivism         movement  0.044355  0.048194 -0.003839\n",
       "18                 system   constructivism  0.021505  0.028542 -0.007037\n",
       "0               attention   constructivism  0.026882  0.034625 -0.007743\n",
       "6          constructivism      non-typical  0.038978  0.047726 -0.008747\n",
       "7          constructivism            pitch  0.017473  0.029946 -0.012473\n",
       "2                   tasks   constructivism  0.024194  0.038836 -0.014642\n",
       "13               language   constructivism  0.049731  0.065974 -0.016243\n",
       "1                learning   constructivism  0.073925  0.093112 -0.019188\n",
       "15        neural networks   constructivism  0.028226  0.049130 -0.020904\n",
       "3                     TMS   constructivism  0.016129  0.042579 -0.026450\n",
       "17  reinforcment learning   constructivism  0.017473  0.044451 -0.026977\n",
       "14             perception   constructivism  0.032258  0.064570 -0.032312\n",
       "11         constructivism     neuroscience  0.037634  0.083754 -0.046120"
      ]
     },
     "execution_count": 15,
     "metadata": {},
     "output_type": "execute_result"
    }
   ],
   "source": [
    "pandas.DataFrame([[t1, t2, r, e, s] for t1, t2, r, e, s in all_connections if t1 == \"constructivism\" or t2 == \"constructivism\"], columns=[\"Topic1\", \"Topic2\", \"Real\", \"Expected\", \"Score\"]).sort_values(by=\"Score\", ascending=False)"
   ]
  },
  {
   "cell_type": "code",
   "execution_count": 16,
   "metadata": {},
   "outputs": [],
   "source": [
    "# here I am getting the data in a state, where I could compare by year\n",
    "topic_article_number_by_year = collections.defaultdict(dict)\n",
    "article_by_year = collections.defaultdict(int)\n",
    "for abstract in all_files_by_topic:\n",
    "    year = abstract[-2].split(\"_\")[1]\n",
    "    article_by_year[year] += 1\n",
    "    for i1, topic1 in enumerate(abstract[:-2]):\n",
    "        if topic1 > threshold:\n",
    "            try:\n",
    "                topic_article_number_by_year[year][i1] += 1\n",
    "            except KeyError:\n",
    "                topic_article_number_by_year[year][i1] = 1"
   ]
  },
  {
   "cell_type": "code",
   "execution_count": 17,
   "metadata": {},
   "outputs": [],
   "source": [
    "# here I am changing the data to frequencies\n",
    "topic_article_number_by_year_freq = dict()\n",
    "for year, data in topic_article_number_by_year.items():\n",
    "    article_current_year = article_by_year[year]\n",
    "    data_freq = dict()\n",
    "    for topic, count in data.items():\n",
    "        data_freq[topic] = count/article_current_year\n",
    "    topic_article_number_by_year_freq[year] = data_freq"
   ]
  },
  {
   "cell_type": "code",
   "execution_count": 18,
   "metadata": {},
   "outputs": [],
   "source": [
    "# here I am not calculating the connections between topics by year\n",
    "connections_by_year = dict()\n",
    "for year in range(2008, 2020):\n",
    "    connections_by_year[year] = collections.defaultdict(dict)\n",
    "for abstract in all_files_by_topic:\n",
    "    year = int(abstract[-2].split(\"_\")[1])\n",
    "    for i1, topic1 in enumerate(abstract[:-2]):\n",
    "        for i2, topic2 in enumerate(abstract[:-2]):\n",
    "            if i1 > i2:\n",
    "                if topic1 > threshold and topic2 > threshold:\n",
    "                    try:\n",
    "                        connections_by_year[year][i1][i2] += 1\n",
    "                    except KeyError:\n",
    "                        connections_by_year[year][i1][i2] = 1"
   ]
  },
  {
   "cell_type": "code",
   "execution_count": 19,
   "metadata": {},
   "outputs": [],
   "source": [
    "# here I am now scoring the connection by year\n",
    "all_scores_by_year = []\n",
    "for year, data_year in topic_article_number_by_year_freq.items():\n",
    "    for topic1 in data_year:\n",
    "        for topic2 in data_year:\n",
    "            if topic1 > topic2:\n",
    "                expected = data_year[topic1] * data_year[topic2]\n",
    "                try:\n",
    "                    real = connections_by_year[int(year)][topic1][topic2] / article_by_year[year]\n",
    "                except KeyError:\n",
    "                    real = 0\n",
    "                score = real - expected\n",
    "                all_scores_by_year.append([int(year), all_topics_names[topic1], all_topics_names[topic2], expected, real, score])"
   ]
  },
  {
   "cell_type": "code",
   "execution_count": 20,
   "metadata": {},
   "outputs": [],
   "source": [
    "# and here I am putting it in pandas\n",
    "all_scores_by_year_pandas = pandas.DataFrame(all_scores_by_year, columns=[\"Year\", \"Topic1\", \"Topic2\", \"Expected\", \"Real\", \"Score\"]).sort_values(\"Score\")"
   ]
  },
  {
   "cell_type": "markdown",
   "metadata": {},
   "source": [
    "And here I can now see how the interdisciplinarity of two subjects changed through time. Let us start with neuroscience and decision making."
   ]
  },
  {
   "cell_type": "code",
   "execution_count": 21,
   "metadata": {},
   "outputs": [
    {
     "data": {
      "text/plain": [
       "<matplotlib.axes._subplots.AxesSubplot at 0x7f4975ce9ac8>"
      ]
     },
     "execution_count": 21,
     "metadata": {},
     "output_type": "execute_result"
    },
    {
     "data": {
      "image/png": "[encoded data removed]",
      "text/plain": [
       "<Figure size 1440x720 with 1 Axes>"
      ]
     },
     "metadata": {
      "needs_background": "light"
     },
     "output_type": "display_data"
    }
   ],
   "source": [
    "all_scores_by_year_pandas[(all_scores_by_year_pandas.Topic1 == \"neuroscience\") & (all_scores_by_year_pandas.Topic2 == \"decision making\")].sort_values(by=\"Year\")[[\"Year\", \"Score\"]].plot(x=\"Year\", y=\"Score\", figsize=(20, 10), linewidth=5)"
   ]
  },
  {
   "cell_type": "markdown",
   "metadata": {},
   "source": [
    "Or costructivism and neuroscience. "
   ]
  },
  {
   "cell_type": "code",
   "execution_count": 22,
   "metadata": {},
   "outputs": [
    {
     "data": {
      "text/html": [
       "<div>\n",
       "<style scoped>\n",
       "    .dataframe tbody tr th:only-of-type {\n",
       "        vertical-align: middle;\n",
       "    }\n",
       "\n",
       "    .dataframe tbody tr th {\n",
       "        vertical-align: top;\n",
       "    }\n",
       "\n",
       "    .dataframe thead th {\n",
       "        text-align: right;\n",
       "    }\n",
       "</style>\n",
       "<table border=\"1\" class=\"dataframe\">\n",
       "  <thead>\n",
       "    <tr style=\"text-align: right;\">\n",
       "      <th></th>\n",
       "      <th>Year</th>\n",
       "      <th>Topic1</th>\n",
       "      <th>Topic2</th>\n",
       "      <th>Expected</th>\n",
       "      <th>Real</th>\n",
       "      <th>Score</th>\n",
       "    </tr>\n",
       "  </thead>\n",
       "  <tbody>\n",
       "    <tr>\n",
       "      <th>1619</th>\n",
       "      <td>2010</td>\n",
       "      <td>constructivism</td>\n",
       "      <td>neuroscience</td>\n",
       "      <td>0.036389</td>\n",
       "      <td>0.021739</td>\n",
       "      <td>-0.014650</td>\n",
       "    </tr>\n",
       "    <tr>\n",
       "      <th>831</th>\n",
       "      <td>2011</td>\n",
       "      <td>constructivism</td>\n",
       "      <td>neuroscience</td>\n",
       "      <td>0.032124</td>\n",
       "      <td>0.024390</td>\n",
       "      <td>-0.007733</td>\n",
       "    </tr>\n",
       "    <tr>\n",
       "      <th>1704</th>\n",
       "      <td>2012</td>\n",
       "      <td>constructivism</td>\n",
       "      <td>neuroscience</td>\n",
       "      <td>0.041781</td>\n",
       "      <td>0.015152</td>\n",
       "      <td>-0.026630</td>\n",
       "    </tr>\n",
       "    <tr>\n",
       "      <th>243</th>\n",
       "      <td>2013</td>\n",
       "      <td>constructivism</td>\n",
       "      <td>neuroscience</td>\n",
       "      <td>0.060096</td>\n",
       "      <td>0.036145</td>\n",
       "      <td>-0.023951</td>\n",
       "    </tr>\n",
       "    <tr>\n",
       "      <th>29</th>\n",
       "      <td>2014</td>\n",
       "      <td>constructivism</td>\n",
       "      <td>neuroscience</td>\n",
       "      <td>0.064765</td>\n",
       "      <td>0.044944</td>\n",
       "      <td>-0.019821</td>\n",
       "    </tr>\n",
       "    <tr>\n",
       "      <th>453</th>\n",
       "      <td>2015</td>\n",
       "      <td>constructivism</td>\n",
       "      <td>neuroscience</td>\n",
       "      <td>0.045599</td>\n",
       "      <td>0.026786</td>\n",
       "      <td>-0.018814</td>\n",
       "    </tr>\n",
       "    <tr>\n",
       "      <th>689</th>\n",
       "      <td>2016</td>\n",
       "      <td>constructivism</td>\n",
       "      <td>neuroscience</td>\n",
       "      <td>0.057670</td>\n",
       "      <td>0.019608</td>\n",
       "      <td>-0.038062</td>\n",
       "    </tr>\n",
       "    <tr>\n",
       "      <th>1224</th>\n",
       "      <td>2017</td>\n",
       "      <td>constructivism</td>\n",
       "      <td>neuroscience</td>\n",
       "      <td>0.091521</td>\n",
       "      <td>0.040404</td>\n",
       "      <td>-0.051117</td>\n",
       "    </tr>\n",
       "    <tr>\n",
       "      <th>1022</th>\n",
       "      <td>2018</td>\n",
       "      <td>constructivism</td>\n",
       "      <td>neuroscience</td>\n",
       "      <td>0.079029</td>\n",
       "      <td>0.045455</td>\n",
       "      <td>-0.033574</td>\n",
       "    </tr>\n",
       "    <tr>\n",
       "      <th>1971</th>\n",
       "      <td>2019</td>\n",
       "      <td>constructivism</td>\n",
       "      <td>neuroscience</td>\n",
       "      <td>0.110947</td>\n",
       "      <td>0.048077</td>\n",
       "      <td>-0.062870</td>\n",
       "    </tr>\n",
       "  </tbody>\n",
       "</table>\n",
       "</div>"
      ],
      "text/plain": [
       "      Year          Topic1        Topic2  Expected      Real     Score\n",
       "1619  2010  constructivism  neuroscience  0.036389  0.021739 -0.014650\n",
       "831   2011  constructivism  neuroscience  0.032124  0.024390 -0.007733\n",
       "1704  2012  constructivism  neuroscience  0.041781  0.015152 -0.026630\n",
       "243   2013  constructivism  neuroscience  0.060096  0.036145 -0.023951\n",
       "29    2014  constructivism  neuroscience  0.064765  0.044944 -0.019821\n",
       "453   2015  constructivism  neuroscience  0.045599  0.026786 -0.018814\n",
       "689   2016  constructivism  neuroscience  0.057670  0.019608 -0.038062\n",
       "1224  2017  constructivism  neuroscience  0.091521  0.040404 -0.051117\n",
       "1022  2018  constructivism  neuroscience  0.079029  0.045455 -0.033574\n",
       "1971  2019  constructivism  neuroscience  0.110947  0.048077 -0.062870"
      ]
     },
     "execution_count": 22,
     "metadata": {},
     "output_type": "execute_result"
    }
   ],
   "source": [
    "all_scores_by_year_pandas[(all_scores_by_year_pandas.Topic1 == \"constructivism\") & (all_scores_by_year_pandas.Topic2 == \"neuroscience\")].sort_values(by=\"Year\")"
   ]
  },
  {
   "cell_type": "code",
   "execution_count": 23,
   "metadata": {},
   "outputs": [
    {
     "data": {
      "text/plain": [
       "<matplotlib.axes._subplots.AxesSubplot at 0x7f4971224e48>"
      ]
     },
     "execution_count": 23,
     "metadata": {},
     "output_type": "execute_result"
    },
    {
     "data": {
      "image/png": "[encoded data removed]",
      "text/plain": [
       "<Figure size 1440x720 with 1 Axes>"
      ]
     },
     "metadata": {
      "needs_background": "light"
     },
     "output_type": "display_data"
    }
   ],
   "source": [
    "all_scores_by_year_pandas[(all_scores_by_year_pandas.Topic1 == \"constructivism\") & (all_scores_by_year_pandas.Topic2 == \"neuroscience\")].sort_values(by=\"Year\")[[\"Year\", \"Score\"]].plot(x=\"Year\", y=\"Score\", figsize=(20, 10), linewidth=5)"
   ]
  },
  {
   "cell_type": "code",
   "execution_count": 24,
   "metadata": {},
   "outputs": [
    {
     "data": {
      "text/plain": [
       "<matplotlib.axes._subplots.AxesSubplot at 0x7f4971224be0>"
      ]
     },
     "execution_count": 24,
     "metadata": {},
     "output_type": "execute_result"
    },
    {
     "data": {
      "image/png": "[encoded data removed]",
      "text/plain": [
       "<Figure size 1440x720 with 1 Axes>"
      ]
     },
     "metadata": {
      "needs_background": "light"
     },
     "output_type": "display_data"
    }
   ],
   "source": [
    "all_scores_by_year_pandas[(all_scores_by_year_pandas.Topic1 == \"constructivism\") & (all_scores_by_year_pandas.Topic2 == \"neuroscience\")].sort_values(by=\"Year\")[[\"Year\", \"Real\"]].plot(x=\"Year\", y=\"Real\", figsize=(20, 10), linewidth=5)"
   ]
  },
  {
   "cell_type": "code",
   "execution_count": 25,
   "metadata": {},
   "outputs": [],
   "source": [
    "# next I can calculate how many topic each article has\n",
    "articles_by_topic_numbers = collections.defaultdict(int)\n",
    "for abstract in all_files_by_topic:\n",
    "    number_of_topics = len([t for t in abstract[:-2] if t > 0.1])\n",
    "    articles_by_topic_numbers[number_of_topics] += 1"
   ]
  },
  {
   "cell_type": "code",
   "execution_count": 26,
   "metadata": {},
   "outputs": [],
   "source": [
    "# and then I can count the number of articles with each number of topics\n",
    "all_topics = 0\n",
    "all_articles = 0\n",
    "for group in articles_by_topic_numbers:\n",
    "    all_topics += int(group) * articles_by_topic_numbers[group]\n",
    "    all_articles += articles_by_topic_numbers[group]"
   ]
  },
  {
   "cell_type": "code",
   "execution_count": 27,
   "metadata": {},
   "outputs": [
    {
     "data": {
      "text/plain": [
       "2.890330188679245"
      ]
     },
     "execution_count": 27,
     "metadata": {},
     "output_type": "execute_result"
    }
   ],
   "source": [
    "#then I can calculate how many topics does the article has on avreage\n",
    "all_topics / all_articles"
   ]
  },
  {
   "cell_type": "code",
   "execution_count": 28,
   "metadata": {},
   "outputs": [
    {
     "data": {
      "text/plain": [
       "<matplotlib.axes._subplots.AxesSubplot at 0x7f4971177518>"
      ]
     },
     "execution_count": 28,
     "metadata": {},
     "output_type": "execute_result"
    },
    {
     "data": {
      "image/png": "[encoded data removed]",
      "text/plain": [
       "<Figure size 432x288 with 1 Axes>"
      ]
     },
     "metadata": {
      "needs_background": "light"
     },
     "output_type": "display_data"
    }
   ],
   "source": [
    "#or I can see the distribution of number of articles with each number of topics\n",
    "pandas.DataFrame([[number, count] for number, count in articles_by_topic_numbers.items()]).sort_values(by=0).plot(kind=\"bar\", x=0, y=1)"
   ]
  },
  {
   "cell_type": "code",
   "execution_count": 29,
   "metadata": {},
   "outputs": [],
   "source": [
    "# I can also calculate, how the avreage number of topics changed through the year\n",
    "articles_by_topic_numbers_by_year = collections.defaultdict(list)\n",
    "for abstract in all_files_by_topic:\n",
    "    number_of_topics = len([t for t in abstract[:-2] if t > 0.1])\n",
    "    year = abstract[-2].split(\"_\")[1]\n",
    "    articles_by_topic_numbers_by_year[year].append(number_of_topics)"
   ]
  },
  {
   "cell_type": "code",
   "execution_count": 30,
   "metadata": {},
   "outputs": [
    {
     "data": {
      "text/html": [
       "<div>\n",
       "<style scoped>\n",
       "    .dataframe tbody tr th:only-of-type {\n",
       "        vertical-align: middle;\n",
       "    }\n",
       "\n",
       "    .dataframe tbody tr th {\n",
       "        vertical-align: top;\n",
       "    }\n",
       "\n",
       "    .dataframe thead th {\n",
       "        text-align: right;\n",
       "    }\n",
       "</style>\n",
       "<table border=\"1\" class=\"dataframe\">\n",
       "  <thead>\n",
       "    <tr style=\"text-align: right;\">\n",
       "      <th></th>\n",
       "      <th>0</th>\n",
       "      <th>1</th>\n",
       "    </tr>\n",
       "  </thead>\n",
       "  <tbody>\n",
       "    <tr>\n",
       "      <th>9</th>\n",
       "      <td>2008</td>\n",
       "      <td>2.625000</td>\n",
       "    </tr>\n",
       "    <tr>\n",
       "      <th>10</th>\n",
       "      <td>2009</td>\n",
       "      <td>2.000000</td>\n",
       "    </tr>\n",
       "    <tr>\n",
       "      <th>7</th>\n",
       "      <td>2010</td>\n",
       "      <td>2.652174</td>\n",
       "    </tr>\n",
       "    <tr>\n",
       "      <th>4</th>\n",
       "      <td>2011</td>\n",
       "      <td>2.463415</td>\n",
       "    </tr>\n",
       "    <tr>\n",
       "      <th>8</th>\n",
       "      <td>2012</td>\n",
       "      <td>2.606061</td>\n",
       "    </tr>\n",
       "    <tr>\n",
       "      <th>1</th>\n",
       "      <td>2013</td>\n",
       "      <td>2.819277</td>\n",
       "    </tr>\n",
       "    <tr>\n",
       "      <th>0</th>\n",
       "      <td>2014</td>\n",
       "      <td>2.797753</td>\n",
       "    </tr>\n",
       "    <tr>\n",
       "      <th>2</th>\n",
       "      <td>2015</td>\n",
       "      <td>2.723214</td>\n",
       "    </tr>\n",
       "    <tr>\n",
       "      <th>3</th>\n",
       "      <td>2016</td>\n",
       "      <td>2.803922</td>\n",
       "    </tr>\n",
       "    <tr>\n",
       "      <th>6</th>\n",
       "      <td>2017</td>\n",
       "      <td>3.010101</td>\n",
       "    </tr>\n",
       "    <tr>\n",
       "      <th>5</th>\n",
       "      <td>2018</td>\n",
       "      <td>3.090909</td>\n",
       "    </tr>\n",
       "    <tr>\n",
       "      <th>11</th>\n",
       "      <td>2019</td>\n",
       "      <td>3.519231</td>\n",
       "    </tr>\n",
       "  </tbody>\n",
       "</table>\n",
       "</div>"
      ],
      "text/plain": [
       "       0         1\n",
       "9   2008  2.625000\n",
       "10  2009  2.000000\n",
       "7   2010  2.652174\n",
       "4   2011  2.463415\n",
       "8   2012  2.606061\n",
       "1   2013  2.819277\n",
       "0   2014  2.797753\n",
       "2   2015  2.723214\n",
       "3   2016  2.803922\n",
       "6   2017  3.010101\n",
       "5   2018  3.090909\n",
       "11  2019  3.519231"
      ]
     },
     "execution_count": 30,
     "metadata": {},
     "output_type": "execute_result"
    }
   ],
   "source": [
    "# results of the avreage number of topic in an article each year\n",
    "pandas.DataFrame([[year, statistics.mean(values)] for year, values in articles_by_topic_numbers_by_year.items()]).sort_values(by=0)"
   ]
  },
  {
   "cell_type": "code",
   "execution_count": 32,
   "metadata": {},
   "outputs": [
    {
     "data": {
      "text/plain": [
       "<matplotlib.axes._subplots.AxesSubplot at 0x7f49710886d8>"
      ]
     },
     "execution_count": 32,
     "metadata": {},
     "output_type": "execute_result"
    },
    {
     "data": {
      "image/png": "[encoded data removed]",
      "text/plain": [
       "<Figure size 1440x720 with 1 Axes>"
      ]
     },
     "metadata": {
      "needs_background": "light"
     },
     "output_type": "display_data"
    }
   ],
   "source": [
    "# and here is the graph of avreage number of topics per year\n",
    "pandas.DataFrame([[year, statistics.mean(values)] for year, values in articles_by_topic_numbers_by_year.items()]).sort_values(by=0).plot(x=0, y=1, figsize=(20,10), linewidth=10)"
   ]
  },
  {
   "cell_type": "code",
   "execution_count": null,
   "metadata": {},
   "outputs": [],
   "source": []
  }
 ],
 "metadata": {
  "kernelspec": {
   "display_name": "Python 3",
   "language": "python",
   "name": "python3"
  },
  "language_info": {
   "codemirror_mode": {
    "name": "ipython",
    "version": 3
   },
   "file_extension": ".py",
   "mimetype": "text/x-python",
   "name": "python",
   "nbconvert_exporter": "python",
   "pygments_lexer": "ipython3",
   "version": "3.7.3"
  }
 },
 "nbformat": 4,
 "nbformat_minor": 2
}
