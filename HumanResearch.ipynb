{
 "cells": [
  {
   "cell_type": "markdown",
   "metadata": {},
   "source": [
    "# Human Research"
   ]
  },
  {
   "cell_type": "code",
   "execution_count": 1,
   "metadata": {},
   "outputs": [],
   "source": [
    "from constants import all_topics_names, folder_meicogsci, folder_meicogsci_2019, folder_models\n",
    "from helping_functions import get_topics_for_abstract\n",
    "import matplotlib.pyplot as plt\n",
    "import collections\n",
    "import networkx\n",
    "import gensim\n",
    "import pandas\n",
    "import nltk\n",
    "import os"
   ]
  },
  {
   "cell_type": "code",
   "execution_count": 2,
   "metadata": {},
   "outputs": [],
   "source": [
    "lem = nltk.stem.WordNetLemmatizer()"
   ]
  },
  {
   "cell_type": "code",
   "execution_count": 3,
   "metadata": {},
   "outputs": [],
   "source": [
    "# get list of abstracts\n",
    "all_files = os.listdir(folder_meicogsci)\n",
    "all_files_2019 = os.listdir(folder_meicogsci_2019)"
   ]
  },
  {
   "cell_type": "code",
   "execution_count": 4,
   "metadata": {},
   "outputs": [],
   "source": [
    "# get the model\n",
    "model_21 = gensim.models.LdaModel.load(os.path.join(folder_models, \"LDA_21\"))\n",
    "model_21.minimum_probability = 0.0"
   ]
  },
  {
   "cell_type": "code",
   "execution_count": 5,
   "metadata": {},
   "outputs": [],
   "source": [
    "#function for preprocessing data\n",
    "def preprocessing_data(folder, file_list):\n",
    "    all_files_by_topic = []\n",
    "    subject_files = []\n",
    "    participant_files = []\n",
    "    for filename in all_files:\n",
    "        with open(os.path.join(folder_meicogsci, filename)) as f:\n",
    "            data = f.readlines()\n",
    "            title = data[0].replace(\"... title: \", \"\").replace(\"\\n\", \" \")\n",
    "            data = \" \".join(data).replace(\"... title: \", \"\").replace(\"\\n\", \" \")\n",
    "        data = data.lower()\n",
    "        data_tok = nltk.tokenize.word_tokenize(data)\n",
    "        if \"subjects\" in data_tok:\n",
    "            subject_files.append(filename)\n",
    "        if \"participants\" in data_tok:\n",
    "            participant_files.append(filename)\n",
    "        data_tok = [lem.lemmatize(w) for w in data_tok]\n",
    "        doc_topics, _, _ = model_21.get_document_topics(model_21.id2word.doc2bow(data_tok), per_word_topics=True)\n",
    "        doc_topics = dict(doc_topics)\n",
    "        new_row = []\n",
    "        for i in range(21):\n",
    "            if i in doc_topics:\n",
    "                new_row.append(doc_topics[i])\n",
    "            else:\n",
    "                new_row.append(0)\n",
    "        new_row.append(filename)\n",
    "        new_row.append(title)\n",
    "        all_files_by_topic.append(new_row)\n",
    "    return all_files_by_topic, subject_files, participant_files"
   ]
  },
  {
   "cell_type": "code",
   "execution_count": 6,
   "metadata": {},
   "outputs": [],
   "source": [
    "# get the data\n",
    "all_files_by_topic = []\n",
    "subject_files = []\n",
    "participant_files = []\n",
    "for folder, list_of_files in [[folder_meicogsci, all_files], [folder_meicogsci_2019, all_files_2019]]:\n",
    "    current_files_by_topic, current_subject_files, current_participant_files = preprocessing_data(folder, list_of_files)\n",
    "    all_files_by_topic += current_files_by_topic\n",
    "    subject_files += current_subject_files\n",
    "    participant_files += current_participant_files"
   ]
  },
  {
   "cell_type": "code",
   "execution_count": 7,
   "metadata": {},
   "outputs": [],
   "source": [
    "# all abstracts that use the word subjects\n",
    "subject_files_set = set([filename.split(\"_\")[2].split(\".\")[0] for filename in subject_files])"
   ]
  },
  {
   "cell_type": "code",
   "execution_count": 8,
   "metadata": {},
   "outputs": [],
   "source": [
    "# all abstracts that use the word participants\n",
    "participant_files_set = set([filename.split(\"_\")[2].split(\".\")[0] for filename in participant_files])"
   ]
  },
  {
   "cell_type": "code",
   "execution_count": 9,
   "metadata": {},
   "outputs": [],
   "source": [
    "# all abstracts\n",
    "all_files_set = set([filename.split(\"_\")[2].split(\".\")[0] for filename in all_files])"
   ]
  },
  {
   "cell_type": "code",
   "execution_count": 10,
   "metadata": {},
   "outputs": [],
   "source": [
    "# see the files that use just one of the word, both or none\n",
    "s_and_p_files = participant_files_set.intersection(subject_files_set)\n",
    "s_only_files = subject_files_set.difference(participant_files_set)\n",
    "p_only_files = participant_files_set.difference(subject_files_set)\n",
    "other_files = all_files_set.difference(participant_files_set.union(subject_files_set))"
   ]
  },
  {
   "cell_type": "code",
   "execution_count": 11,
   "metadata": {},
   "outputs": [
    {
     "data": {
      "text/plain": [
       "49.596774193548384"
      ]
     },
     "execution_count": 11,
     "metadata": {},
     "output_type": "execute_result"
    }
   ],
   "source": [
    "# how many abstract use at least one word (they do experiments on humans)?\n",
    "((len(s_and_p_files) + len(s_only_files) + len(p_only_files))/len(all_files))*100"
   ]
  },
  {
   "cell_type": "code",
   "execution_count": 12,
   "metadata": {},
   "outputs": [],
   "source": [
    "# here I am calculating the the abstracts that use each word by topics\n",
    "together = [0]*21\n",
    "topics_by_type = dict()\n",
    "for group in [\"sp\", \"s\", \"p\", \"n\"]:\n",
    "    topics_by_type[group] = [0]*21\n",
    "for abstract in all_files_by_topic:\n",
    "    abstract_id = abstract[-2].split(\"_\")[2].split(\".\")[0]\n",
    "    topics = abstract[:-2]\n",
    "    if abstract_id in s_and_p_files:\n",
    "        topics_by_type[\"sp\"] = [sum([i, j]) for i, j in zip(topics_by_type[\"sp\"], topics)]\n",
    "    if abstract_id in s_only_files:\n",
    "        topics_by_type[\"s\"] = [sum([i, j]) for i, j in zip(topics_by_type[\"s\"], topics)]\n",
    "    if abstract_id in p_only_files:\n",
    "        topics_by_type[\"p\"] = [sum([i, j]) for i, j in zip(topics_by_type[\"p\"], topics)]\n",
    "    if abstract_id in other_files:\n",
    "        topics_by_type[\"n\"] = [sum([i, j]) for i, j in zip(topics_by_type[\"n\"], topics)]\n",
    "    together = [sum([i, j]) for i, j in zip(together, topics)]"
   ]
  },
  {
   "cell_type": "code",
   "execution_count": 13,
   "metadata": {},
   "outputs": [],
   "source": [
    "# here I am just putting it in the better form\n",
    "for group in topics_by_type:\n",
    "    if group == \"sp\":\n",
    "        topics_by_type[group] = [i / (len(s_and_p_files)/len(all_files)) for i in topics_by_type[group]]\n",
    "    if group == \"s\":\n",
    "        topics_by_type[group] = [i / (len(s_only_files)/len(all_files)) for i in topics_by_type[group]]\n",
    "    if group == \"p\":\n",
    "        topics_by_type[group] = [i / (len(p_only_files)/len(all_files)) for i in topics_by_type[group]]\n",
    "    if group == \"n\":\n",
    "        topics_by_type[group] = [i / (len(other_files)/len(all_files)) for i in topics_by_type[group]]"
   ]
  },
  {
   "cell_type": "code",
   "execution_count": 14,
   "metadata": {},
   "outputs": [],
   "source": [
    "# here I am renaming the columns\n",
    "columns_rename = {\"sp\": \"subjects and participants\", \"p\": \"participants only\", \"s\": \"subjects only\", \"n\": \"none\"}\n",
    "topics_by_experiment_pandas = pandas.DataFrame(topics_by_type).rename(index=all_topics_names, columns=columns_rename)"
   ]
  },
  {
   "cell_type": "code",
   "execution_count": 15,
   "metadata": {},
   "outputs": [],
   "source": [
    "# here I am calculating the ratio of experiments with humans\n",
    "topics_by_experiment_pandas[\"experiments\"] = 1 - (topics_by_experiment_pandas[\"none\"]/(topics_by_experiment_pandas[\"subjects and participants\"] + topics_by_experiment_pandas[\"participants only\"] + topics_by_experiment_pandas[\"subjects only\"] + topics_by_experiment_pandas[\"none\"]))"
   ]
  },
  {
   "cell_type": "code",
   "execution_count": 16,
   "metadata": {},
   "outputs": [
    {
     "data": {
      "text/html": [
       "<div>\n",
       "<style scoped>\n",
       "    .dataframe tbody tr th:only-of-type {\n",
       "        vertical-align: middle;\n",
       "    }\n",
       "\n",
       "    .dataframe tbody tr th {\n",
       "        vertical-align: top;\n",
       "    }\n",
       "\n",
       "    .dataframe thead th {\n",
       "        text-align: right;\n",
       "    }\n",
       "</style>\n",
       "<table border=\"1\" class=\"dataframe\">\n",
       "  <thead>\n",
       "    <tr style=\"text-align: right;\">\n",
       "      <th></th>\n",
       "      <th>experiments</th>\n",
       "    </tr>\n",
       "  </thead>\n",
       "  <tbody>\n",
       "    <tr>\n",
       "      <th>perception</th>\n",
       "      <td>0.915113</td>\n",
       "    </tr>\n",
       "    <tr>\n",
       "      <th>attention</th>\n",
       "      <td>0.895649</td>\n",
       "    </tr>\n",
       "    <tr>\n",
       "      <th>non-typical</th>\n",
       "      <td>0.889058</td>\n",
       "    </tr>\n",
       "    <tr>\n",
       "      <th>categorization</th>\n",
       "      <td>0.839996</td>\n",
       "    </tr>\n",
       "    <tr>\n",
       "      <th>neuroscience</th>\n",
       "      <td>0.818790</td>\n",
       "    </tr>\n",
       "    <tr>\n",
       "      <th>TMS</th>\n",
       "      <td>0.806771</td>\n",
       "    </tr>\n",
       "    <tr>\n",
       "      <th>decision making</th>\n",
       "      <td>0.800626</td>\n",
       "    </tr>\n",
       "    <tr>\n",
       "      <th>movement</th>\n",
       "      <td>0.791827</td>\n",
       "    </tr>\n",
       "    <tr>\n",
       "      <th>health</th>\n",
       "      <td>0.791650</td>\n",
       "    </tr>\n",
       "    <tr>\n",
       "      <th>learning</th>\n",
       "      <td>0.778934</td>\n",
       "    </tr>\n",
       "    <tr>\n",
       "      <th>verbalization</th>\n",
       "      <td>0.757168</td>\n",
       "    </tr>\n",
       "    <tr>\n",
       "      <th>pitch</th>\n",
       "      <td>0.756215</td>\n",
       "    </tr>\n",
       "    <tr>\n",
       "      <th>reasoning</th>\n",
       "      <td>0.749980</td>\n",
       "    </tr>\n",
       "    <tr>\n",
       "      <th>tasks</th>\n",
       "      <td>0.747675</td>\n",
       "    </tr>\n",
       "    <tr>\n",
       "      <th>language</th>\n",
       "      <td>0.724855</td>\n",
       "    </tr>\n",
       "    <tr>\n",
       "      <th>constructivism</th>\n",
       "      <td>0.706929</td>\n",
       "    </tr>\n",
       "    <tr>\n",
       "      <th>neural networks</th>\n",
       "      <td>0.593122</td>\n",
       "    </tr>\n",
       "    <tr>\n",
       "      <th>society</th>\n",
       "      <td>0.589904</td>\n",
       "    </tr>\n",
       "    <tr>\n",
       "      <th>system</th>\n",
       "      <td>0.546536</td>\n",
       "    </tr>\n",
       "    <tr>\n",
       "      <th>modeling</th>\n",
       "      <td>0.498617</td>\n",
       "    </tr>\n",
       "    <tr>\n",
       "      <th>reinforcment learning</th>\n",
       "      <td>0.413099</td>\n",
       "    </tr>\n",
       "  </tbody>\n",
       "</table>\n",
       "</div>"
      ],
      "text/plain": [
       "                       experiments\n",
       "perception                0.915113\n",
       "attention                 0.895649\n",
       "non-typical               0.889058\n",
       "categorization            0.839996\n",
       "neuroscience              0.818790\n",
       "TMS                       0.806771\n",
       "decision making           0.800626\n",
       "movement                  0.791827\n",
       "health                    0.791650\n",
       "learning                  0.778934\n",
       "verbalization             0.757168\n",
       "pitch                     0.756215\n",
       "reasoning                 0.749980\n",
       "tasks                     0.747675\n",
       "language                  0.724855\n",
       "constructivism            0.706929\n",
       "neural networks           0.593122\n",
       "society                   0.589904\n",
       "system                    0.546536\n",
       "modeling                  0.498617\n",
       "reinforcment learning     0.413099"
      ]
     },
     "execution_count": 16,
     "metadata": {},
     "output_type": "execute_result"
    }
   ],
   "source": [
    "# here I can list the topics by how many human experimentation they do\n",
    "topics_by_experiment_pandas[[\"experiments\"]].sort_values(by=\"experiments\", ascending=False)"
   ]
  },
  {
   "cell_type": "code",
   "execution_count": 17,
   "metadata": {},
   "outputs": [],
   "source": [
    "# here I am calculating the ratio of use of subjects and participants words\n",
    "topics_by_experiment_pandas[\"participants\"] = topics_by_experiment_pandas[\"participants only\"]/(topics_by_experiment_pandas[\"participants only\"] + topics_by_experiment_pandas[\"subjects only\"])\n",
    "topics_by_experiment_pandas[\"subjects\"] = topics_by_experiment_pandas[\"subjects only\"]/(topics_by_experiment_pandas[\"participants only\"] + topics_by_experiment_pandas[\"subjects only\"])"
   ]
  },
  {
   "cell_type": "code",
   "execution_count": 18,
   "metadata": {},
   "outputs": [
    {
     "data": {
      "text/html": [
       "<div>\n",
       "<style scoped>\n",
       "    .dataframe tbody tr th:only-of-type {\n",
       "        vertical-align: middle;\n",
       "    }\n",
       "\n",
       "    .dataframe tbody tr th {\n",
       "        vertical-align: top;\n",
       "    }\n",
       "\n",
       "    .dataframe thead th {\n",
       "        text-align: right;\n",
       "    }\n",
       "</style>\n",
       "<table border=\"1\" class=\"dataframe\">\n",
       "  <thead>\n",
       "    <tr style=\"text-align: right;\">\n",
       "      <th></th>\n",
       "      <th>participants</th>\n",
       "      <th>subjects</th>\n",
       "    </tr>\n",
       "  </thead>\n",
       "  <tbody>\n",
       "    <tr>\n",
       "      <th>tasks</th>\n",
       "      <td>0.770226</td>\n",
       "      <td>0.229774</td>\n",
       "    </tr>\n",
       "    <tr>\n",
       "      <th>language</th>\n",
       "      <td>0.749858</td>\n",
       "      <td>0.250142</td>\n",
       "    </tr>\n",
       "    <tr>\n",
       "      <th>decision making</th>\n",
       "      <td>0.690200</td>\n",
       "      <td>0.309800</td>\n",
       "    </tr>\n",
       "    <tr>\n",
       "      <th>attention</th>\n",
       "      <td>0.670435</td>\n",
       "      <td>0.329565</td>\n",
       "    </tr>\n",
       "    <tr>\n",
       "      <th>verbalization</th>\n",
       "      <td>0.604536</td>\n",
       "      <td>0.395464</td>\n",
       "    </tr>\n",
       "    <tr>\n",
       "      <th>constructivism</th>\n",
       "      <td>0.584983</td>\n",
       "      <td>0.415017</td>\n",
       "    </tr>\n",
       "    <tr>\n",
       "      <th>society</th>\n",
       "      <td>0.584423</td>\n",
       "      <td>0.415577</td>\n",
       "    </tr>\n",
       "    <tr>\n",
       "      <th>movement</th>\n",
       "      <td>0.528684</td>\n",
       "      <td>0.471316</td>\n",
       "    </tr>\n",
       "    <tr>\n",
       "      <th>perception</th>\n",
       "      <td>0.505274</td>\n",
       "      <td>0.494726</td>\n",
       "    </tr>\n",
       "    <tr>\n",
       "      <th>health</th>\n",
       "      <td>0.499092</td>\n",
       "      <td>0.500908</td>\n",
       "    </tr>\n",
       "    <tr>\n",
       "      <th>system</th>\n",
       "      <td>0.495246</td>\n",
       "      <td>0.504754</td>\n",
       "    </tr>\n",
       "    <tr>\n",
       "      <th>modeling</th>\n",
       "      <td>0.494669</td>\n",
       "      <td>0.505331</td>\n",
       "    </tr>\n",
       "    <tr>\n",
       "      <th>categorization</th>\n",
       "      <td>0.486528</td>\n",
       "      <td>0.513472</td>\n",
       "    </tr>\n",
       "    <tr>\n",
       "      <th>non-typical</th>\n",
       "      <td>0.480844</td>\n",
       "      <td>0.519156</td>\n",
       "    </tr>\n",
       "    <tr>\n",
       "      <th>learning</th>\n",
       "      <td>0.454010</td>\n",
       "      <td>0.545990</td>\n",
       "    </tr>\n",
       "    <tr>\n",
       "      <th>reinforcment learning</th>\n",
       "      <td>0.413459</td>\n",
       "      <td>0.586541</td>\n",
       "    </tr>\n",
       "    <tr>\n",
       "      <th>reasoning</th>\n",
       "      <td>0.369439</td>\n",
       "      <td>0.630561</td>\n",
       "    </tr>\n",
       "    <tr>\n",
       "      <th>neuroscience</th>\n",
       "      <td>0.336806</td>\n",
       "      <td>0.663194</td>\n",
       "    </tr>\n",
       "    <tr>\n",
       "      <th>neural networks</th>\n",
       "      <td>0.307110</td>\n",
       "      <td>0.692890</td>\n",
       "    </tr>\n",
       "    <tr>\n",
       "      <th>pitch</th>\n",
       "      <td>0.265159</td>\n",
       "      <td>0.734841</td>\n",
       "    </tr>\n",
       "    <tr>\n",
       "      <th>TMS</th>\n",
       "      <td>0.107921</td>\n",
       "      <td>0.892079</td>\n",
       "    </tr>\n",
       "  </tbody>\n",
       "</table>\n",
       "</div>"
      ],
      "text/plain": [
       "                       participants  subjects\n",
       "tasks                      0.770226  0.229774\n",
       "language                   0.749858  0.250142\n",
       "decision making            0.690200  0.309800\n",
       "attention                  0.670435  0.329565\n",
       "verbalization              0.604536  0.395464\n",
       "constructivism             0.584983  0.415017\n",
       "society                    0.584423  0.415577\n",
       "movement                   0.528684  0.471316\n",
       "perception                 0.505274  0.494726\n",
       "health                     0.499092  0.500908\n",
       "system                     0.495246  0.504754\n",
       "modeling                   0.494669  0.505331\n",
       "categorization             0.486528  0.513472\n",
       "non-typical                0.480844  0.519156\n",
       "learning                   0.454010  0.545990\n",
       "reinforcment learning      0.413459  0.586541\n",
       "reasoning                  0.369439  0.630561\n",
       "neuroscience               0.336806  0.663194\n",
       "neural networks            0.307110  0.692890\n",
       "pitch                      0.265159  0.734841\n",
       "TMS                        0.107921  0.892079"
      ]
     },
     "execution_count": 18,
     "metadata": {},
     "output_type": "execute_result"
    }
   ],
   "source": [
    "# here are the results\n",
    "topics_by_experiment_pandas[[\"participants\", \"subjects\"]].sort_values(by=\"subjects\")"
   ]
  },
  {
   "cell_type": "code",
   "execution_count": 19,
   "metadata": {},
   "outputs": [
    {
     "data": {
      "text/plain": [
       "<matplotlib.axes._subplots.AxesSubplot at 0x7f94108678d0>"
      ]
     },
     "execution_count": 19,
     "metadata": {},
     "output_type": "execute_result"
    },
    {
     "data": {
      "image/png": "[encoded data removed]",
      "text/plain": [
       "<Figure size 1440x720 with 1 Axes>"
      ]
     },
     "metadata": {
      "needs_background": "light"
     },
     "output_type": "display_data"
    }
   ],
   "source": [
    "# here I am showing the ratio of the use of participant and subjects in each topic\n",
    "topics_by_experiment_pandas[[\"participants\", \"subjects\"]].sort_values(by=\"subjects\").plot(kind=\"bar\", figsize=(20, 10))"
   ]
  },
  {
   "cell_type": "code",
   "execution_count": null,
   "metadata": {},
   "outputs": [],
   "source": []
  }
 ],
 "metadata": {
  "kernelspec": {
   "display_name": "Python 3",
   "language": "python",
   "name": "python3"
  },
  "language_info": {
   "codemirror_mode": {
    "name": "ipython",
    "version": 3
   },
   "file_extension": ".py",
   "mimetype": "text/x-python",
   "name": "python",
   "nbconvert_exporter": "python",
   "pygments_lexer": "ipython3",
   "version": "3.7.3"
  }
 },
 "nbformat": 4,
 "nbformat_minor": 2
}
